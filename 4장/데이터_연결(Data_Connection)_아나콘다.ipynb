{
 "cells": [
  {
   "cell_type": "code",
   "execution_count": 1,
   "id": "13415685",
   "metadata": {},
   "outputs": [
    {
     "name": "stdout",
     "output_type": "stream",
     "text": [
      "Requirement already satisfied: langchain in c:\\users\\jyseo\\anaconda3\\envs\\openai\\lib\\site-packages (0.1.17)\n",
      "Requirement already satisfied: PyYAML>=5.3 in c:\\users\\jyseo\\anaconda3\\envs\\openai\\lib\\site-packages (from langchain) (6.0.1)\n",
      "Requirement already satisfied: SQLAlchemy<3,>=1.4 in c:\\users\\jyseo\\anaconda3\\envs\\openai\\lib\\site-packages (from langchain) (2.0.29)\n",
      "Requirement already satisfied: aiohttp<4.0.0,>=3.8.3 in c:\\users\\jyseo\\anaconda3\\envs\\openai\\lib\\site-packages (from langchain) (3.9.5)\n",
      "Requirement already satisfied: async-timeout<5.0.0,>=4.0.0 in c:\\users\\jyseo\\anaconda3\\envs\\openai\\lib\\site-packages (from langchain) (4.0.3)\n",
      "Requirement already satisfied: dataclasses-json<0.7,>=0.5.7 in c:\\users\\jyseo\\anaconda3\\envs\\openai\\lib\\site-packages (from langchain) (0.6.5)\n",
      "Requirement already satisfied: jsonpatch<2.0,>=1.33 in c:\\users\\jyseo\\anaconda3\\envs\\openai\\lib\\site-packages (from langchain) (1.33)\n",
      "Requirement already satisfied: langchain-community<0.1,>=0.0.36 in c:\\users\\jyseo\\anaconda3\\envs\\openai\\lib\\site-packages (from langchain) (0.0.36)\n",
      "Requirement already satisfied: langchain-core<0.2.0,>=0.1.48 in c:\\users\\jyseo\\anaconda3\\envs\\openai\\lib\\site-packages (from langchain) (0.1.48)\n",
      "Requirement already satisfied: langchain-text-splitters<0.1,>=0.0.1 in c:\\users\\jyseo\\anaconda3\\envs\\openai\\lib\\site-packages (from langchain) (0.0.1)\n",
      "Requirement already satisfied: langsmith<0.2.0,>=0.1.17 in c:\\users\\jyseo\\anaconda3\\envs\\openai\\lib\\site-packages (from langchain) (0.1.52)\n",
      "Requirement already satisfied: numpy<2,>=1 in c:\\users\\jyseo\\anaconda3\\envs\\openai\\lib\\site-packages (from langchain) (1.24.4)\n",
      "Requirement already satisfied: pydantic<3,>=1 in c:\\users\\jyseo\\anaconda3\\envs\\openai\\lib\\site-packages (from langchain) (2.7.1)\n",
      "Requirement already satisfied: requests<3,>=2 in c:\\users\\jyseo\\anaconda3\\envs\\openai\\lib\\site-packages (from langchain) (2.31.0)\n",
      "Requirement already satisfied: tenacity<9.0.0,>=8.1.0 in c:\\users\\jyseo\\anaconda3\\envs\\openai\\lib\\site-packages (from langchain) (8.2.3)\n",
      "Requirement already satisfied: aiosignal>=1.1.2 in c:\\users\\jyseo\\anaconda3\\envs\\openai\\lib\\site-packages (from aiohttp<4.0.0,>=3.8.3->langchain) (1.3.1)\n",
      "Requirement already satisfied: attrs>=17.3.0 in c:\\users\\jyseo\\anaconda3\\envs\\openai\\lib\\site-packages (from aiohttp<4.0.0,>=3.8.3->langchain) (23.2.0)\n",
      "Requirement already satisfied: frozenlist>=1.1.1 in c:\\users\\jyseo\\anaconda3\\envs\\openai\\lib\\site-packages (from aiohttp<4.0.0,>=3.8.3->langchain) (1.4.1)\n",
      "Requirement already satisfied: multidict<7.0,>=4.5 in c:\\users\\jyseo\\anaconda3\\envs\\openai\\lib\\site-packages (from aiohttp<4.0.0,>=3.8.3->langchain) (6.0.5)\n",
      "Requirement already satisfied: yarl<2.0,>=1.0 in c:\\users\\jyseo\\anaconda3\\envs\\openai\\lib\\site-packages (from aiohttp<4.0.0,>=3.8.3->langchain) (1.9.4)\n",
      "Requirement already satisfied: marshmallow<4.0.0,>=3.18.0 in c:\\users\\jyseo\\anaconda3\\envs\\openai\\lib\\site-packages (from dataclasses-json<0.7,>=0.5.7->langchain) (3.21.2)\n",
      "Requirement already satisfied: typing-inspect<1,>=0.4.0 in c:\\users\\jyseo\\anaconda3\\envs\\openai\\lib\\site-packages (from dataclasses-json<0.7,>=0.5.7->langchain) (0.9.0)\n",
      "Requirement already satisfied: jsonpointer>=1.9 in c:\\users\\jyseo\\anaconda3\\envs\\openai\\lib\\site-packages (from jsonpatch<2.0,>=1.33->langchain) (2.4)\n",
      "Requirement already satisfied: packaging<24.0,>=23.2 in c:\\users\\jyseo\\anaconda3\\envs\\openai\\lib\\site-packages (from langchain-core<0.2.0,>=0.1.48->langchain) (23.2)\n",
      "Requirement already satisfied: orjson<4.0.0,>=3.9.14 in c:\\users\\jyseo\\anaconda3\\envs\\openai\\lib\\site-packages (from langsmith<0.2.0,>=0.1.17->langchain) (3.10.2)\n",
      "Requirement already satisfied: annotated-types>=0.4.0 in c:\\users\\jyseo\\anaconda3\\envs\\openai\\lib\\site-packages (from pydantic<3,>=1->langchain) (0.6.0)\n",
      "Requirement already satisfied: pydantic-core==2.18.2 in c:\\users\\jyseo\\anaconda3\\envs\\openai\\lib\\site-packages (from pydantic<3,>=1->langchain) (2.18.2)\n",
      "Requirement already satisfied: typing-extensions>=4.6.1 in c:\\users\\jyseo\\anaconda3\\envs\\openai\\lib\\site-packages (from pydantic<3,>=1->langchain) (4.11.0)\n",
      "Requirement already satisfied: charset-normalizer<4,>=2 in c:\\users\\jyseo\\anaconda3\\envs\\openai\\lib\\site-packages (from requests<3,>=2->langchain) (3.3.2)\n",
      "Requirement already satisfied: idna<4,>=2.5 in c:\\users\\jyseo\\anaconda3\\envs\\openai\\lib\\site-packages (from requests<3,>=2->langchain) (3.7)\n",
      "Requirement already satisfied: urllib3<3,>=1.21.1 in c:\\users\\jyseo\\anaconda3\\envs\\openai\\lib\\site-packages (from requests<3,>=2->langchain) (2.2.1)\n",
      "Requirement already satisfied: certifi>=2017.4.17 in c:\\users\\jyseo\\anaconda3\\envs\\openai\\lib\\site-packages (from requests<3,>=2->langchain) (2024.2.2)\n",
      "Requirement already satisfied: greenlet!=0.4.17 in c:\\users\\jyseo\\anaconda3\\envs\\openai\\lib\\site-packages (from SQLAlchemy<3,>=1.4->langchain) (3.0.3)\n",
      "Requirement already satisfied: mypy-extensions>=0.3.0 in c:\\users\\jyseo\\anaconda3\\envs\\openai\\lib\\site-packages (from typing-inspect<1,>=0.4.0->dataclasses-json<0.7,>=0.5.7->langchain) (1.0.0)\n"
     ]
    }
   ],
   "source": [
    "!pip install langchain"
   ]
  },
  {
   "cell_type": "code",
   "execution_count": 2,
   "id": "f14419d8",
   "metadata": {},
   "outputs": [
    {
     "name": "stdout",
     "output_type": "stream",
     "text": [
      "Requirement already satisfied: openai in c:\\users\\jyseo\\anaconda3\\envs\\openai\\lib\\site-packages (1.34.0)\n",
      "Requirement already satisfied: anyio<5,>=3.5.0 in c:\\users\\jyseo\\anaconda3\\envs\\openai\\lib\\site-packages (from openai) (4.3.0)\n",
      "Requirement already satisfied: distro<2,>=1.7.0 in c:\\users\\jyseo\\anaconda3\\envs\\openai\\lib\\site-packages (from openai) (1.9.0)\n",
      "Requirement already satisfied: httpx<1,>=0.23.0 in c:\\users\\jyseo\\anaconda3\\envs\\openai\\lib\\site-packages (from openai) (0.27.0)\n",
      "Requirement already satisfied: pydantic<3,>=1.9.0 in c:\\users\\jyseo\\anaconda3\\envs\\openai\\lib\\site-packages (from openai) (2.7.1)\n",
      "Requirement already satisfied: sniffio in c:\\users\\jyseo\\anaconda3\\envs\\openai\\lib\\site-packages (from openai) (1.3.1)\n",
      "Requirement already satisfied: tqdm>4 in c:\\users\\jyseo\\anaconda3\\envs\\openai\\lib\\site-packages (from openai) (4.66.2)\n",
      "Requirement already satisfied: typing-extensions<5,>=4.7 in c:\\users\\jyseo\\anaconda3\\envs\\openai\\lib\\site-packages (from openai) (4.11.0)\n",
      "Requirement already satisfied: idna>=2.8 in c:\\users\\jyseo\\anaconda3\\envs\\openai\\lib\\site-packages (from anyio<5,>=3.5.0->openai) (3.7)\n",
      "Requirement already satisfied: exceptiongroup>=1.0.2 in c:\\users\\jyseo\\anaconda3\\envs\\openai\\lib\\site-packages (from anyio<5,>=3.5.0->openai) (1.2.1)\n",
      "Requirement already satisfied: certifi in c:\\users\\jyseo\\anaconda3\\envs\\openai\\lib\\site-packages (from httpx<1,>=0.23.0->openai) (2024.2.2)\n",
      "Requirement already satisfied: httpcore==1.* in c:\\users\\jyseo\\anaconda3\\envs\\openai\\lib\\site-packages (from httpx<1,>=0.23.0->openai) (1.0.5)\n",
      "Requirement already satisfied: h11<0.15,>=0.13 in c:\\users\\jyseo\\anaconda3\\envs\\openai\\lib\\site-packages (from httpcore==1.*->httpx<1,>=0.23.0->openai) (0.14.0)\n",
      "Requirement already satisfied: annotated-types>=0.4.0 in c:\\users\\jyseo\\anaconda3\\envs\\openai\\lib\\site-packages (from pydantic<3,>=1.9.0->openai) (0.6.0)\n",
      "Requirement already satisfied: pydantic-core==2.18.2 in c:\\users\\jyseo\\anaconda3\\envs\\openai\\lib\\site-packages (from pydantic<3,>=1.9.0->openai) (2.18.2)\n",
      "Requirement already satisfied: colorama in c:\\users\\jyseo\\anaconda3\\envs\\openai\\lib\\site-packages (from tqdm>4->openai) (0.4.6)\n",
      "Note: you may need to restart the kernel to use updated packages.\n"
     ]
    }
   ],
   "source": [
    "pip install openai"
   ]
  },
  {
   "cell_type": "code",
   "execution_count": 3,
   "id": "978b96e9",
   "metadata": {},
   "outputs": [
    {
     "name": "stdout",
     "output_type": "stream",
     "text": [
      "Requirement already satisfied: pypdf in c:\\users\\jyseo\\anaconda3\\envs\\openai\\lib\\site-packages (4.2.0)\n",
      "Requirement already satisfied: typing_extensions>=4.0 in c:\\users\\jyseo\\anaconda3\\envs\\openai\\lib\\site-packages (from pypdf) (4.11.0)\n"
     ]
    }
   ],
   "source": [
    "!pip install pypdf"
   ]
  },
  {
   "cell_type": "code",
   "execution_count": 4,
   "id": "0c26110e",
   "metadata": {},
   "outputs": [
    {
     "name": "stdout",
     "output_type": "stream",
     "text": [
      "Requirement already satisfied: tiktoken in c:\\users\\jyseo\\anaconda3\\envs\\openai\\lib\\site-packages (0.7.0)\n",
      "Requirement already satisfied: regex>=2022.1.18 in c:\\users\\jyseo\\anaconda3\\envs\\openai\\lib\\site-packages (from tiktoken) (2024.4.28)\n",
      "Requirement already satisfied: requests>=2.26.0 in c:\\users\\jyseo\\anaconda3\\envs\\openai\\lib\\site-packages (from tiktoken) (2.31.0)\n",
      "Requirement already satisfied: charset-normalizer<4,>=2 in c:\\users\\jyseo\\anaconda3\\envs\\openai\\lib\\site-packages (from requests>=2.26.0->tiktoken) (3.3.2)\n",
      "Requirement already satisfied: idna<4,>=2.5 in c:\\users\\jyseo\\anaconda3\\envs\\openai\\lib\\site-packages (from requests>=2.26.0->tiktoken) (3.7)\n",
      "Requirement already satisfied: urllib3<3,>=1.21.1 in c:\\users\\jyseo\\anaconda3\\envs\\openai\\lib\\site-packages (from requests>=2.26.0->tiktoken) (2.2.1)\n",
      "Requirement already satisfied: certifi>=2017.4.17 in c:\\users\\jyseo\\anaconda3\\envs\\openai\\lib\\site-packages (from requests>=2.26.0->tiktoken) (2024.2.2)\n"
     ]
    }
   ],
   "source": [
    "!pip install tiktoken"
   ]
  },
  {
   "cell_type": "code",
   "execution_count": 5,
   "id": "0b2be409",
   "metadata": {},
   "outputs": [
    {
     "name": "stdout",
     "output_type": "stream",
     "text": [
      "Requirement already satisfied: faiss-cpu in c:\\users\\jyseo\\anaconda3\\envs\\openai\\lib\\site-packages (1.8.0)\n",
      "Requirement already satisfied: numpy in c:\\users\\jyseo\\anaconda3\\envs\\openai\\lib\\site-packages (from faiss-cpu) (1.24.4)\n"
     ]
    }
   ],
   "source": [
    "!pip install faiss-cpu"
   ]
  },
  {
   "cell_type": "code",
   "execution_count": 6,
   "id": "cc926628",
   "metadata": {},
   "outputs": [
    {
     "name": "stdout",
     "output_type": "stream",
     "text": [
      "Requirement already satisfied: sentence-transformers in c:\\users\\jyseo\\anaconda3\\envs\\openai\\lib\\site-packages (2.7.0)\n",
      "Requirement already satisfied: transformers<5.0.0,>=4.34.0 in c:\\users\\jyseo\\anaconda3\\envs\\openai\\lib\\site-packages (from sentence-transformers) (4.40.1)\n",
      "Requirement already satisfied: tqdm in c:\\users\\jyseo\\anaconda3\\envs\\openai\\lib\\site-packages (from sentence-transformers) (4.66.2)\n",
      "Requirement already satisfied: torch>=1.11.0 in c:\\users\\jyseo\\anaconda3\\envs\\openai\\lib\\site-packages (from sentence-transformers) (2.3.0)\n",
      "Requirement already satisfied: numpy in c:\\users\\jyseo\\anaconda3\\envs\\openai\\lib\\site-packages (from sentence-transformers) (1.24.4)\n",
      "Requirement already satisfied: scikit-learn in c:\\users\\jyseo\\anaconda3\\envs\\openai\\lib\\site-packages (from sentence-transformers) (1.3.2)\n",
      "Requirement already satisfied: scipy in c:\\users\\jyseo\\anaconda3\\envs\\openai\\lib\\site-packages (from sentence-transformers) (1.10.1)\n",
      "Requirement already satisfied: huggingface-hub>=0.15.1 in c:\\users\\jyseo\\anaconda3\\envs\\openai\\lib\\site-packages (from sentence-transformers) (0.22.2)\n",
      "Requirement already satisfied: Pillow in c:\\users\\jyseo\\anaconda3\\envs\\openai\\lib\\site-packages (from sentence-transformers) (10.3.0)\n",
      "Requirement already satisfied: filelock in c:\\users\\jyseo\\anaconda3\\envs\\openai\\lib\\site-packages (from huggingface-hub>=0.15.1->sentence-transformers) (3.14.0)\n",
      "Requirement already satisfied: fsspec>=2023.5.0 in c:\\users\\jyseo\\anaconda3\\envs\\openai\\lib\\site-packages (from huggingface-hub>=0.15.1->sentence-transformers) (2024.3.1)\n",
      "Requirement already satisfied: packaging>=20.9 in c:\\users\\jyseo\\anaconda3\\envs\\openai\\lib\\site-packages (from huggingface-hub>=0.15.1->sentence-transformers) (23.2)\n",
      "Requirement already satisfied: pyyaml>=5.1 in c:\\users\\jyseo\\anaconda3\\envs\\openai\\lib\\site-packages (from huggingface-hub>=0.15.1->sentence-transformers) (6.0.1)\n",
      "Requirement already satisfied: requests in c:\\users\\jyseo\\anaconda3\\envs\\openai\\lib\\site-packages (from huggingface-hub>=0.15.1->sentence-transformers) (2.31.0)\n",
      "Requirement already satisfied: typing-extensions>=3.7.4.3 in c:\\users\\jyseo\\anaconda3\\envs\\openai\\lib\\site-packages (from huggingface-hub>=0.15.1->sentence-transformers) (4.11.0)\n",
      "Requirement already satisfied: sympy in c:\\users\\jyseo\\anaconda3\\envs\\openai\\lib\\site-packages (from torch>=1.11.0->sentence-transformers) (1.12)\n",
      "Requirement already satisfied: networkx in c:\\users\\jyseo\\anaconda3\\envs\\openai\\lib\\site-packages (from torch>=1.11.0->sentence-transformers) (3.1)\n",
      "Requirement already satisfied: jinja2 in c:\\users\\jyseo\\anaconda3\\envs\\openai\\lib\\site-packages (from torch>=1.11.0->sentence-transformers) (3.1.3)\n",
      "Requirement already satisfied: mkl<=2021.4.0,>=2021.1.1 in c:\\users\\jyseo\\anaconda3\\envs\\openai\\lib\\site-packages (from torch>=1.11.0->sentence-transformers) (2021.4.0)\n",
      "Requirement already satisfied: colorama in c:\\users\\jyseo\\anaconda3\\envs\\openai\\lib\\site-packages (from tqdm->sentence-transformers) (0.4.6)\n",
      "Requirement already satisfied: regex!=2019.12.17 in c:\\users\\jyseo\\anaconda3\\envs\\openai\\lib\\site-packages (from transformers<5.0.0,>=4.34.0->sentence-transformers) (2024.4.28)\n",
      "Requirement already satisfied: tokenizers<0.20,>=0.19 in c:\\users\\jyseo\\anaconda3\\envs\\openai\\lib\\site-packages (from transformers<5.0.0,>=4.34.0->sentence-transformers) (0.19.1)\n",
      "Requirement already satisfied: safetensors>=0.4.1 in c:\\users\\jyseo\\anaconda3\\envs\\openai\\lib\\site-packages (from transformers<5.0.0,>=4.34.0->sentence-transformers) (0.4.3)\n",
      "Requirement already satisfied: joblib>=1.1.1 in c:\\users\\jyseo\\anaconda3\\envs\\openai\\lib\\site-packages (from scikit-learn->sentence-transformers) (1.4.0)\n",
      "Requirement already satisfied: threadpoolctl>=2.0.0 in c:\\users\\jyseo\\anaconda3\\envs\\openai\\lib\\site-packages (from scikit-learn->sentence-transformers) (3.5.0)\n",
      "Requirement already satisfied: intel-openmp==2021.* in c:\\users\\jyseo\\anaconda3\\envs\\openai\\lib\\site-packages (from mkl<=2021.4.0,>=2021.1.1->torch>=1.11.0->sentence-transformers) (2021.4.0)\n",
      "Requirement already satisfied: tbb==2021.* in c:\\users\\jyseo\\anaconda3\\envs\\openai\\lib\\site-packages (from mkl<=2021.4.0,>=2021.1.1->torch>=1.11.0->sentence-transformers) (2021.12.0)\n",
      "Requirement already satisfied: MarkupSafe>=2.0 in c:\\users\\jyseo\\anaconda3\\envs\\openai\\lib\\site-packages (from jinja2->torch>=1.11.0->sentence-transformers) (2.1.5)\n",
      "Requirement already satisfied: charset-normalizer<4,>=2 in c:\\users\\jyseo\\anaconda3\\envs\\openai\\lib\\site-packages (from requests->huggingface-hub>=0.15.1->sentence-transformers) (3.3.2)\n",
      "Requirement already satisfied: idna<4,>=2.5 in c:\\users\\jyseo\\anaconda3\\envs\\openai\\lib\\site-packages (from requests->huggingface-hub>=0.15.1->sentence-transformers) (3.7)\n",
      "Requirement already satisfied: urllib3<3,>=1.21.1 in c:\\users\\jyseo\\anaconda3\\envs\\openai\\lib\\site-packages (from requests->huggingface-hub>=0.15.1->sentence-transformers) (2.2.1)\n",
      "Requirement already satisfied: certifi>=2017.4.17 in c:\\users\\jyseo\\anaconda3\\envs\\openai\\lib\\site-packages (from requests->huggingface-hub>=0.15.1->sentence-transformers) (2024.2.2)\n",
      "Requirement already satisfied: mpmath>=0.19 in c:\\users\\jyseo\\anaconda3\\envs\\openai\\lib\\site-packages (from sympy->torch>=1.11.0->sentence-transformers) (1.3.0)\n"
     ]
    }
   ],
   "source": [
    "!pip install sentence-transformers"
   ]
  },
  {
   "cell_type": "code",
   "execution_count": 7,
   "id": "e1aa131f",
   "metadata": {},
   "outputs": [
    {
     "data": {
      "text/plain": [
       "'Chapter 1    The Fence \\n \\nTom Sawyer lived with his aunt because his mother and \\nfather were dead. Tom didn’t like going to school, and he didn’t like working. He liked playing and having adventures. One Friday, he didn’t go to school—he went to the river. \\nAunt Polly was angry. “You’re a bad boy!” she said. \\n“Tomorrow you can’t play with your friends because you didn’t go to school today. Tomorrow you’re going to work for me. You can paint the fence.” \\nSaturday morning, Tom was not happy, but he started to \\npaint the fence. His friend Jim was in the street. \\nTom asked him, “Do you want to paint?” \\nJim said, “No, I can’t. I’m going to get water.” \\nThen Ben came to Tom’s house. He watched Tom and \\nsaid, “I’m going to swim today. You can’t swim because you’re working.” \\nTom said, “This isn’t work. I like painting.” \\n“Can I paint, too?” Ben asked. \\n“No, you can’t,” Tom answered. “Aunt Polly asked me \\nbecause I’m a very good painter.” \\nBen said, “I’m a good painter, too. Please, can I paint? I \\nhave some fruit. Do you want it?” \\nOK,” Tom said. “Give me the fruit. Then you can paint.” \\nBen started to paint the fence. Later, many boys came to \\nTom’s house. They watched Ben, and they wanted to paint, too. \\nTom said, “Give me some food and you can paint.” \\n \\n1 '"
      ]
     },
     "execution_count": 7,
     "metadata": {},
     "output_type": "execute_result"
    }
   ],
   "source": [
    "from langchain.document_loaders import PyPDFLoader\n",
    "\n",
    "loader = PyPDFLoader(\"d:/data/The_Adventures_of_Tom_Sawyer.pdf\")\n",
    "document = loader.load()\n",
    "document[5].page_content[:5000]"
   ]
  },
  {
   "cell_type": "code",
   "execution_count": 8,
   "id": "3075e30d",
   "metadata": {},
   "outputs": [
    {
     "name": "stderr",
     "output_type": "stream",
     "text": [
      "C:\\Users\\JYSEO\\anaconda3\\envs\\openai\\lib\\site-packages\\langchain_core\\_api\\deprecation.py:119: LangChainDeprecationWarning: The class `OpenAIEmbeddings` was deprecated in LangChain 0.0.9 and will be removed in 0.2.0. An updated version of the class exists in the langchain-openai package and should be used instead. To use it run `pip install -U langchain-openai` and import as `from langchain_openai import OpenAIEmbeddings`.\n",
      "  warn_deprecated(\n"
     ]
    }
   ],
   "source": [
    "import os\n",
    "os.environ[\"OPENAI_API_KEY\"] = \"sk\" #openai 키 입력\n",
    "\n",
    "from langchain.vectorstores import FAISS\n",
    "from langchain.embeddings import OpenAIEmbeddings\n",
    "\n",
    "embeddings = OpenAIEmbeddings() #임베딩 처리\n",
    "db = FAISS.from_documents(document, embeddings)"
   ]
  },
  {
   "cell_type": "code",
   "execution_count": 9,
   "id": "48495c19",
   "metadata": {},
   "outputs": [
    {
     "name": "stdout",
     "output_type": "stream",
     "text": [
      "[-0.0029022407787281613, -0.0202004801480018, -0.01273261499776823, -0.016551768712307287, -0.022548785848791688, 0.02868468181016256, -0.02790191262235087, 0.006445215668117994, -0.012025598658249464, 0.009885610263466692, -0.01549124373736784, 0.014443343771482585, 0.006634595460543821, -0.03325504125855523, 0.0006221905465367085, 0.027952414521212818, 0.022233153171856174, -0.00495227388852399, 0.024114324224415066, -0.027068643398322417, -0.0003791535343079773, 0.0038949051658480906, 0.014152961112655453, -0.0209706243267593, -0.005078526773033677, 0.0183066859490339, 0.024328953103626684, -0.020452985917021178, -0.0041347859258132735, -0.01867281866218618, 0.0013879939471092369, -0.0011780982821397014, -0.035502345024266406, -0.005062745511715937, 0.001271998998871404, -0.01772592063137964, 0.011129202526304869, 0.007221671885741293, 0.009607853545016342, 0.0032241859601907707, -0.0007243766000832099, 0.00326364004480771, 0.005482536375993712, -0.007625681488701328, 0.01550386874642203, 0.004778676288738493, -0.01213922653370496, -0.0209706243267593, -0.0191020782832546, 0.014657973582016794, 0.009664667017082795, 0.012574798659300473, -0.011564774651900384, -0.011331207327784887, -0.01922833209908688, 0.0042357883265532826, -0.0021778643532679373, -0.01297880826226051, 0.0032273424452849667, -0.027043393380214033, 0.0015205595689766678, 0.011122889090455182, -0.014885229332927786, -2.0929146943811717e-06, -0.016185634136509825, -0.014127711094547071, -0.011438521767390696, 0.001330391062730926, -0.00846526414857947, -0.002122628541671963, 0.0294169490991123, 0.029164443330092927, -0.01384995437609672, -0.00717117045254064, 0.01789004947437449, -0.01616038411840144, -0.006685096428083177, -0.0012775225567479365, -0.012682114030228874, 0.004036939777336813, 0.017599668678192543, -0.02329367814679562, -0.002989039811451557, -0.00967097952160989, 0.003815996996614212, -0.0014242916630473044, -0.044213802437338155, 0.029745206785102007, 0.002760206167239439, -0.003771808533601951, 0.006855537775605125, 0.021134753169754154, 0.0029558984641923614, 0.04340578323141808, -0.003235233075943836, 0.004090597462801013, -0.0026497347768781386, 0.011741529435272019, -0.02156401279082257, -0.013509070749730233, -0.012928307294721154, -0.015667997589416883, -0.01448121972996775, -0.0033867366770538496, -0.012909369781139867, -0.007638306497755519, 0.0005606422304136387, -0.024695087679424146, 0.024455206919458964, -0.027043393380214033, -0.002329367954377951, 0.026159622257323628, 0.014115085154170287, -0.033507545164929424, 0.010516874686015129, -0.013824703426665747, 0.02395019351877503, -0.012991434202637294, 0.013370192856166354, -0.0006083816518453769, 0.012252853477837864, 0.012549548641192091, 0.018432937902220996, -0.0012806789254268085, 0.008963963182091124, 0.008086504563727816, -0.005334189259977895, -0.021109501289000587, 0.0012293886619909168, -0.013079811128661814, 0.0539352829264874, 0.014051959177576739, 0.03444181818668178, 0.0004505654006891128, -0.016261386053480154, -0.017258785983148645, 0.015756374515441405, 0.0023656655539006943, 0.013433319764082494, -0.02088224740073478, -0.0029543203380605876, 0.0035224587840154763, -0.008118068017685887, -0.0246445857805622, 0.02802816643818315, 0.022978045469860105, 0.05337976762694152, 0.002509278524351838, 0.005252124838480469, 0.015024107226491664, 0.007455239675518084, -0.0007547562266118012, 0.04550158316318859, -0.009835109295927335, 0.01922833209908688, 0.0007515999161405915, -0.022094276209614887, 0.020642366640769596, 0.011716278485841045, -0.00254084174547926, 0.006615657481301238, 0.015036732235545856, 0.028507927958113514, -0.012909369781139867, 0.012353856344239168, 0.03353279890832817, 0.003541396763258059, 0.01815518211509324, -0.001257795514439467, -0.0011441678718146187, -0.006003330106672792, 0.017839549438157725, -0.003383580424790302, 0.03174000291914862, -0.034946829724720525, 0.008597829537616253, 0.01178571789828428, -0.002064236477812441, -0.011318581387408105, 0.019304084016057207, -0.015667997589416883, 0.00453879552877331, 0.013395443805597328, 0.012940932303775344, -0.0149862312680065, -0.0070322920933154655, -0.0006616446311536478, -0.018281434068280335, -0.002215740078922455, 0.013572197657646373, 0.011167077553467443, 0.013155563045632146, -0.012069787121261725, -0.0037370888273803335, -0.6258108731224507, 0.0035161460466577327, 0.021160003187862535, -0.006438903163590899, 0.019796470545041765, 0.0010581580185724338, -0.00531840753299886, 0.011110264081400992, -0.011848843874877828, 0.027624156835223113, 0.0022788667540079464, -0.0020452987314005066, 0.004475669086518466, -0.0008261680638891059, -0.012448545774790787, -0.027270649131125025, 0.0023814472808797293, -0.009020776654157577, -0.005668759916155992, -0.01752391676122221, -0.0028848811584480005, -0.004983837342482059, -0.014430717831105801, 0.00254084174547926, 0.017940551373236437, 0.01888744940404298, 0.01192459579184816, 0.006760848345053508, -0.002749159051486374, 0.05873289812579107, -0.044567310141436244, 0.03681537576822523, -0.0036045232055129024, -0.0015205595689766678, 0.03211876436664546, -0.014014083219091575, -0.024265826195710546, 0.017776422530241587, -0.007007041609545787, 0.04628434862570992, -0.017258785983148645, -0.018975826330067502, 0.020907497418843162, -0.001069994197391386, -0.00871145741307175, 0.0012601628200524517, 0.004721862351010745, -0.005700322904452766, 0.017018905223183462, 0.007821373785654251, -0.03663862191617619, 0.005198467153016268, 0.024505706955675728, 0.008029691091661365, -0.031285495142617005, 0.019884847471066287, 0.015832126432411737, -0.008667268950059488, -0.006019111833651828, 0.010971386187837114, 0.035578095078591554, -0.003989595062061004, -0.004822864751750754, 4.717226416323758e-05, -0.04115847946570691, 0.02790191262235087, -0.01651389182249953, -0.00044740906111407204, -0.00886296031568982, -0.028078668337045098, 0.022851793516673012, -0.019190457071924304, -0.003976969587345517, 0.007897125702624581, 0.019644966711101105, 0.027371651066203737, 0.045072321679474996, 0.01056106314902739, -0.008585204528562061, 0.0018275122029414535, -0.021084251270892206, -0.008989214131522098, -0.023079049267584004, 0.014026708228145765, -0.008503140107064636, -0.010838819867477738, -0.020642366640769596, -0.01932933403416559, 0.005056432541527546, -0.0161982610082092, 0.025061220392576425, 0.035527595042374786, -0.00109840116625526, -0.017599668678192543, -0.01608463220143111, 0.03456807200251406, 0.0030395410118215617, -0.003642399163998068, 0.000462401608611896, -0.005637196462197922, 0.01694315330621313, -0.0029701018322089746, 0.008256945911249765, -0.0034561758566664367, 0.011211266947802296, 0.026437378044451388, -0.04625909860760154, -0.0011441678718146187, 0.013218689022225694, -0.019632341702046915, 0.01167840252735588, -0.01077569389088419, 0.009696230471040864, 0.011154452544413253, -0.007215358915552901, -0.011665777518301688, 0.0043841354425691, 0.025881864607550688, 0.009715168915944743, -0.009083903562073715, 0.018319310958088093, 0.003964344112630029, 0.031967260532704794, 0.012208665014825603, 0.01535236491248137, 0.011369082354947461, -0.04282501791376382, -0.03012396636995366, -0.021021124362976065, -0.013786827468180583, -0.029442199117220683, -0.010573689089404172, 0.014733725498987124, -0.012852555377750824, 0.00692497718804836, 0.012833617864169537, 0.021980647402836798, -0.0036644933955041984, 0.022662414655569774, -0.00929222086808083, -0.004914397930038824, 0.007581492560027771, -0.008976588191145315, -0.0008301134956338645, -0.003907530174902282, -0.011766779453380402, -0.023912318491612457, -0.004333634475029744, -0.01334494190673538, 0.0026623602515936256, -0.004355728706535875, -0.024530958836429296, -0.00292433524306494, -0.002296226374288107, 0.025389478078566133, 0.014885229332927786, -0.010750442941453216, -0.006139052213634419, 0.01204453617183075, -0.007764559382265206, 0.02623537417429396, 0.0010131803760789618, -0.0285331779762219, -0.015731124497333025, 0.006697721902798664, -0.03333079131288038, 0.00042294755309878776, 0.018786447468964268, -0.007177482957067736, -0.021147378178808345, -0.014796851475580672, -0.007549929571730998, -0.009184905497152429, 0.014822102425011646, 0.01499885627706069, -0.015390240870966534, 0.008780895894192392, -0.018988451339121692, -0.019783845535987575, 0.0025345290081215167, 0.018963201321013312, 0.009576290091058273, -0.0017533385285182206, -0.012360168848766265, 0.011116576585928087, 0.014228713029625783, 0.0096583545125557, 0.03466907580023795, -0.0070512300725580485, 0.006325275288135403, -0.021008499353921874, 0.023230553101524665, -0.0032162953295319014, 0.013534321699161208, 0.003254171055186419, -0.03570434889442383, 0.018975826330067502, 0.0366133718980678, 0.030224968305032372, 0.03148749901277443, -0.009159655479044047, -0.004033783525073265, 0.0030900422121915663, -0.0070701680518006306, 0.014569596655992272, -0.010062364115515737, -0.009128092025085976, -0.01599625527540659, 0.007436301696275502, -0.005611945978428244, -0.007871874753193607, -0.029240195247063255, 0.009828795860077648, -0.019304084016057207, 0.01587000145957431, 0.02161451468968452, -0.027018141499460465, 0.010737817932399025, -0.015263987986456848, 0.011369082354947461, 0.030578477871775644, 0.009468974720129872, -0.006577781522816073, -0.019884847471066287, 0.00378443377548679, 0.033381295074387515, -0.002384603533143277, 0.0326237759046842, 0.00387281093434196, 0.007663556981525198, -0.022157401254885842, -0.02371031462145503, -0.007549929571730998, 0.025061220392576425, 0.004447261884823944, -0.02291492042458915, 0.019581839803184967, -0.022372031996742644, -0.004579827739522023, 0.01989747248012048, 0.012050848676357846, 0.01789004947437449, -0.0207559935849025, -0.033760052796593984, 0.029593702951161344, 0.04019895642584618, 0.009399536239009229, 0.009929798726478953, -0.04088072181593397, 0.011558462147373287, -0.02350830888865242, -0.017587043669138352, 0.018912699422151364, -0.001702837328148216, -0.004990149847009155, -0.03482057963417862, -0.0037939027651080815, -0.001315398515233102, 0.01948083786810625, 0.011886719833362994, 0.0010194929970213814, 0.011179703493844227, 0.00387281093434196, 0.011028199659903565, 0.029896710619042668, 0.007543617067203902, -0.0052142488799953035, -0.021715516624763235, -0.003683431374746781, -0.015832126432411737, -0.03578009894874898, -0.022813916626865254, 0.019405085951135922, -0.019771220526933385, 0.027775660669163774, 0.022334155106934886, 0.007227984390268388, -0.001226232293312045, 0.01959446667488434, 0.017763797521187393, -0.01246117171516757, -0.03959294109008353, -0.000796182968893458, 0.029745206785102007, 0.015226112027971682, -0.0030300720222002702, -0.03047747407405175, 0.01080725734484226, -0.01304193517017665, 0.05666234821212894, -0.0036676496477677464, 0.006760848345053508, -0.0035098335421306372, -0.013736326500641225, -0.0289624394599355, -0.018634943635023608, 0.019998476277844377, -0.01811730522528548, 0.026992891481352085, -0.0187611955882107, -0.010175991990971233, -0.001808574223698871, -0.006290555581913785, -0.013976207260606409, 0.010434810264517702, 0.015794251405249163, 0.0019853285414092106, -0.017587043669138352, 0.022031149301698746, -0.009279595859026638, -0.031234993243755053, -0.0028122857265718655, -0.023306305018494997, -0.037396137360589124, -0.021665014725901283, -0.004093753715064561, -0.021980647402836798, -0.022296280079772312, 0.01605938218332273, 0.014796851475580672, -0.007265860348753553, -0.01800367828115258, -0.018281434068280335, 0.01008761506494671, 0.05125871767706263, -0.017044155241291846, -0.006520967585088325, -0.011886719833362994, 0.005394159449969191, 0.008395824736136235, -0.006514655080561229, -0.02939169908100392, -0.010504249676960937, -0.007126981989528379, -0.004611390727818797, -0.011507961179833931, 0.00173124429701209, -0.001999531909425824, 0.027144395315292745, 0.009191218933002116, -0.003901217670375186, -0.035578095078591554, 0.005211092627731755, 0.0004276820479094334, 0.00022646632404721783, -0.010535813130919006, 0.02190489548586647, 0.021778643532679373, -0.006438903163590899, 0.00801706515128458, 4.59639822397672e-05, 0.014228713029625783, 0.024227951168547972, -0.032851029792950015, -0.007392113233263241, -0.005495161850709199, -0.007246922369510971, -0.020642366640769596, -0.004936492161544954, 0.02349568387959823, -0.02055398785209989, 0.019708093619017243, 0.0154281168294517, 0.0017722765077608034, 0.02934119718214197, 0.04163824098563728, 0.009494225669560846, -0.010245431403414468, 0.011627901559816523, 0.0017091500655059598, 0.004958586858712381, 0.019405085951135922, -0.003569803732121933, 0.011116576585928087, 0.02658888187839205, -0.009872984323089909, -0.030048214452983328, -0.010838819867477738, 0.014910479351036168, -0.0025534669873640992, -0.009285908363553733, -0.007998127637703295, 0.004870209467026563, -0.003148434276051088, -0.0005791856199156159, -0.02802816643818315, -0.023104299285692385, -0.006609344511112847, -0.006906039208805778, -0.014796851475580672, -0.02395019351877503, -0.01085144580785452, -0.02551573189439841, -0.007411051212505823, -0.03365904899887009, -0.019304084016057207, -0.021387258938773527, -0.03176525666254737, -0.014493844739021941, 0.0195313397669682, 0.029871460600934284, 0.003746557817001625, -0.0042421008310803785, -0.005447817135433391, -0.011438521767390696, -0.018180432133201623, 0.0035161460466577327, -0.024051197316498928, -0.02868468181016256, 0.0014282370947920633, 0.0022173184378848766, 0.0096583545125557, -0.014102460145116097, 0.001983750182446789, 0.02474558771564091, -0.0007291110948938555, 0.01937983593302754, -0.0032699527821654535, -0.0013848375784303651, -0.026260624192402344, -0.0006939969735546184, 0.005192154648489173, -0.014380216863566445, -0.0042547263057958655, 0.027119145297184365, -0.029593702951161344, -0.00044306912694020085, 0.0012901479150480997, -0.0023372585850368202, -0.0038475602177416336, 0.016614895620223426, 0.006385245478126698, -0.0017091500655059598, 0.010466373718475771, 0.027018141499460465, -0.02415219925157764, 0.01347119572256766, -0.023924943500666648, 0.013004059211691484, 0.010314869884535111, -0.006571468552627681, 0.009147029538667263, -0.0003282578024050293, -0.015011482217437474, -0.008541015134227208, -0.004548264285563953, 0.03365904899887009, 0.024998093484660287, -0.005160591660192399, 0.011318581387408105, -0.00753730409701551, -0.006792411333350282, 0.0027349556834697607, 0.0057034791567163136, -0.00011362770083251014, 0.006710346911852856, -0.007227984390268388, -0.012151851542759152, 0.002383025407011503, -0.010908259279920974, -0.029038189514260647, 0.027952414521212818, -0.015465992787936866, -0.020137353240085663, -0.007373175254020658, -0.03269952595900935, -0.00886296031568982, -0.015516493755476223, -0.02802816643818315, -0.027346401048095357, -0.012543236136664996, 0.024177449269686024, -0.0031831537494420577, 0.006811349312592864, -0.0205413628430457, -0.010264368916995753, -0.014304464946596113, -0.01858444173616166, 0.008610454546670445, -0.037396137360589124, -0.004769207066286554, 0.020654991649823786, 0.03658811815466905, 0.01100294871047259, 0.002354618438147629, -0.0056151022306917915, 0.016551768712307287, 0.008818771852677558, 0.0016491798755146638, 0.008452638208202688, -0.012909369781139867, 0.02190489548586647, -0.028583679875083846, 0.019569214794130773, -0.005665603663892444, -0.0021084251736553502, 0.027245397250371457, 0.023015922359667863, -0.011261767915341652, 0.020314107092134707, 0.007650931972471006, -0.012379106362347552, -0.02999771255412138, -0.009349034340147281, 0.008225383388614286, -0.006258992593617011, 0.010302244875480919, -0.020314107092134707, -0.0070007291050186915, -0.02478346460544867, 0.019682843600908863, -0.013887830334581887, 0.019771220526933385, 0.009677292957459577, 0.019291459007003017, -0.03815365653029243, 0.003683431374746781, 0.008364261282178166, -0.003815996996614212, -0.016476016795336956, 0.016981028333375704, 0.027927164503104434, 0.010769381386357095, 0.007613056013985841, 0.008509452611591731, 0.030805731760041453, -0.004942805131733346, 0.022409907023905218, -0.008212757448237504, 0.02156401279082257, -0.011905658278266873, -0.03333079131288038, 0.01728403600125703, -0.008825084357204653, -0.037017379638382655, -0.029568452933052963, -0.00508168349095852, -0.031310745160725385, 0.024164824260631834, 0.00216997348977842, -0.024518333827375102, 0.01816780712414743, 0.009708855480095056, -0.006830287291835447, 0.0025345290081215167, 0.04191599491011985, 0.03666387193428457, -0.004791301297792684, 0.035830602710256114, 0.04232000637572507, -0.0047250186032742935, -0.031588502810498326, 0.010504249676960937, -0.004601921971028154, -0.009847734304981526, 0.0013209220731096346, 0.021677639734955477, -0.008515765116118826, -0.017132532167316368, 0.026765635730441092, -0.0015852642537786093, -0.021892270476812276, -0.021046376243729632, 0.024695087679424146, -0.006457841142833481, 0.011381708295324245, 0.009607853545016342, -0.008926087223605958, -0.003702369353989364, 0.01945558784999787, -0.004964899363239477, 0.005378377722990156, -0.043557287065358746, -0.02549048187629003, -0.018521314828245518, -0.031411745233158914, -0.007947626670163938, 0.026992891481352085, -0.004516701297267179, 0.005492005598445652, -0.002777566020350248, 0.00041229496887866594, -0.013496445740676042, 0.006315806531344759, -0.022258405052609738, 0.02523797424462547, -0.017082030268454416, -0.011482710230402957, 0.004298914768808127, -0.011981410195237203, -0.006460997395097029, 0.0016302418962720812, -0.02017523012989342, 0.035174087338276705, -0.009910860281575075, 0.007619368518512937, -0.028583679875083846, 0.016438139905529198, 0.012410669816305621, 0.007581492560027771, 0.01042218525546351, 0.0055519757884369475, -0.0033046722555564235, -0.009879297758939596, 0.020528737833991506, 0.0069565401763451344, -0.01629926294328791, -0.00667247095336769, -0.019064203256092024, 0.005476223871466617, -0.03358329894454494, -0.009203843942056308, 0.017637543705355117, 0.04072921798199331, -0.016488641804391146, -0.006296868552102176, -0.02954320291494458, -0.008705144908544654, 0.00670403440732576, -0.036083106616630306, -0.0041221604510977864, 0.03277527973862487, -0.05191523304904204, 0.009450037206548587, -0.02477083959639448, 0.008225383388614286, 0.007890812266774894, -0.011249142906287462, 0.022889668543835583, -0.023041172377776246, 0.01672852256435633, -0.022081649337915513, -0.021488260873852243, -0.018344560976196474, -0.0060727695191160275, 0.010895634270866782, -0.012846242873223727, -0.017915301355128057, 0.005368908966199512, 0.01246117171516757, 0.016375014860258243, -0.005387846945442095, -0.012839930368696632, 0.009330096826565994, 0.0001224062311673194, -0.000600885378096465, 0.02969470674888524, -0.026614131896500432, -0.03012396636995366, 0.005788700296138583, 0.006741910365810925, -0.009254344909595664, 0.001851184676994682, -0.03623461045057096, -0.01073150542787193, -0.008073879554673626, -0.01824355904111776, -0.015579620663392362, 0.0010502671550829163, -0.015832126432411737, -0.025540981912506793, 0.006659845944313499, -0.010201242940402207, -0.015339739903427178, 0.001994797531030502, 0.03989594875796486, -0.012025598658249464, 0.01825618405017195, -0.00048646858509423683, -0.02744740298317407, 0.011053450609334539, -0.04085547179782559, -0.0294169490991123, -0.01536498992153556, -0.018432937902220996, 0.06893413640958032, 0.0009871407128280727, -0.015200861078540708, -0.017814299420049345, 0.015529118764530413, -0.03237126827301965, 0.009039715099061454, 0.027573654936361165, 0.001691790212395151, -0.004289445546356187, 0.006798724303538673, 0.0019048421296282343, 0.018622318625969414, -0.01664014563833181, 0.03623461045057096, -0.003408831141390628, -0.01874857057915651, -0.006779786324296091, -0.022106901218669078, -0.03090673555776535, 0.012278104427268838, 0.01085144580785452, -0.016539143703253094, 0.004298914768808127, -0.007815060349804564, 0.007827686290181346, 0.02716964533340113, 0.003711838343610655, -0.006470466151887672, 0.005362596461672417, -0.009323784322038899, -0.008976588191145315, 0.012038223667303656, 0.014721099558610342, -0.0037781210381290465, -0.02329367814679562, 0.017763797521187393, -0.0004146622162839888, -0.0025361071342532905, -0.004380979190305553, 0.01377420245912639, -0.023748189648617603, 0.023685062740701465, 0.00023573803335012194, -0.013029310161122458, 0.008900836274174984, -0.0015016215897340852, 0.011009262146322278, -0.003209982592174158, -0.000549989646193517, 0.028103918355153478, -0.022157401254885842, -0.0202004801480018, -0.003935937376596804, 0.011507961179833931, 0.00041071678453923007, 0.019985849406145, 0.004822864751750754, -0.0051195594494436855, 0.015617496621877527, 0.005312095028471764, 0.023773439666725987, -0.019417710960190113, -0.017700670613271255, 0.018824322496126842, 0.01440546781299742, -0.03631036423018648, 0.039087929552044785, -0.005722417135958896, -0.01207609962578882, 0.0010013440808446857, -0.02025098204686375, 3.0379628347580837e-05, 0.0005188209565990386, -0.024379455002488632, 0.0008135427637966047, 0.013155563045632146, -0.013584822666700564, 0.049895186896887045, -0.014253963979056757, -0.019682843600908863, 0.006426277688875412, 0.005656134441440505, 0.0005586695145412593, 0.021374633929719337, 0.2521019922470625, -0.0027665189045971827, -0.0056151022306917915, 0.014620097623531628, 0.004939648879469798, 0.027624156835223113, 0.027826160705380538, -0.0046555796564923535, -0.007979190124122008, -0.0020926434466763152, -0.0060727695191160275, 0.012991434202637294, -0.0038096842592564685, 0.0027396900618650824, -0.00344039436251805, -0.034037810446366924, -0.010018175652503476, 0.015036732235545856, 0.011198641007425514, -0.02883618564410322, 0.003910686892827126, 0.008597829537616253, -0.014216088020571593, -0.0011938798927034124, -0.0008948181222281441, 0.006565156048100586, -0.005712948379168253, -0.0025850302084915212, -0.010630502561470625, -0.0033015160032928755, -0.023015922359667863, -0.0016807430966420858, 0.016248761044425963, 0.003292047013671584, -0.00038349349758567947, -0.007821373785654251, 0.02868468181016256, 0.014758975517095508, 0.03174000291914862, 0.036436618046018755, 0.009241719900541472, -0.009197531437529211, -5.281912769573053e-05, 0.016387639869312434, -0.006874475754847708, 0.03456807200251406, -0.003913843145090673, 0.0001863218092476275, -0.01924095710814107, 0.03322979124044685, -0.03126024139921826, -0.017145157176370558, 0.011211266947802296, 0.037295137288155596, 0.004927023404754311, -0.0011899345773739778, 0.007190108431783223, -0.008963963182091124, -0.021968022393782607, 0.011994035204291395, 0.01594575337654464, 0.023015922359667863, -0.005978079622903114, 0.029947212517904616, -0.01590787834938207, -0.008301135305584618, -0.04055246412994427, 0.024253201186656356, 0.0030426972640851093, -0.004576671487258475, -0.003860185459626473, 0.019215707090032685, 0.007726683889441337, -0.007594118034743258, -0.03297728360878229, -0.01989747248012048, 0.04219375255989279, 0.004374666685778458, 0.02595761652452102, 0.023773439666725987, -0.02716964533340113, -7.377909923454289e-05, 0.012189727501244316, 0.01811730522528548, -0.0068807887250361, -0.011432209262863601, -0.007417363717032919, -0.008174881489752338, -0.02658888187839205, -0.007007041609545787, 0.013546946708215398, 0.000512508277448957, 0.005372065218463061, -0.013130312096201172, -0.00028840918625514656, 0.01311768708714698, 0.0003967105949775958, 0.013976207260606409, 0.00400853257564229, -0.004819708499487207, -0.002080018204791476, -0.009311159312984707, 0.009431098761644708, 0.01506198318497683, -0.0018275122029414535, 0.033760052796593984, -0.0015126688219024742, -0.01751129175216802, -0.0021731297420419676, -0.02291492042458915, -0.016375014860258243, -0.027725158770301826, -0.0027854568838397652, 0.013799453408557365, 0.009879297758939596, -0.007852936308289728, 0.020856995519981214, -0.03209351434853708, -0.0011015574185188077, -0.0010352746075850924, -0.01730928601936541, -0.018268809059226145, -0.012120288088801081, 0.01975859551787919, 0.01592050335843626, -0.014859978383496812, -0.011760466948853306, 0.022574035866900072, 0.005450973387696938, -0.042724014116039925, 0.005643508966725018, -0.026462629925204952, 0.02744740298317407, 0.00633790076285089, 0.0056151022306917915, 0.03072997984307112, -0.0011812546508185734, -0.005400471954496286, 0.011381708295324245, 0.014039334168522549, -0.004144254682603917, -0.01917783020022493, 0.014455968780536775, 0.005558288292964043, 0.017208284084286696, -0.044845067791209184, 0.012802054410211466, 0.003989595062061004, -0.013420693823705712, -0.015339739903427178, -0.035300337428818614, 0.011583713096804263, 0.002267819638254881, 0.012915682285666962, 0.02668988381347076, -0.018533939837299708, -0.02549048187629003, -0.03782539884430273, 0.006514655080561229, 0.009083903562073715, -0.036992129620274275, 0.005842357515941488, 0.024101697352715692, -0.025692485746447453, -0.019493462877160445, -0.01037799679245125, -0.15705873361637532, 0.004440949380296848, 0.03898692575432089, -0.025932366506412636, -0.005450973387696938, 0.0387344218479467, 0.013635324565562513, -0.023735564639563413, -0.013294440939196024, 0.025035970374468045, 0.02805341645629153, -0.013168188054686336, -0.032876279811058395, 0.0015071452640259416, 0.002905397263822357, 0.0101002400740009, -0.000685317046999214, -0.011242829470437775, 0.010340120833966085, 0.0034183001310119196, 0.03120974136300149, -0.011078700627442921, -0.010005550643449284, -0.004734487360064936, -0.01175415444432621, 0.018180432133201623, -0.014190837071140617, 0.0006797934891226814, -0.003557178257406446, -0.01206347461673463, -0.02083174550187283, 0.004081128240349074, 0.016248761044425963, -0.012802054410211466, 0.01739766294538993, -0.006031737308367315, -0.0022599287747653634, 0.00028998737059458243, -0.017044155241291846, 0.03535084119032575, 0.0002749948230967585, 0.03865866806833118, 0.013370192856166354, -0.02484659151336481, 0.0017454477814440271, 0.004532482558584919, -0.021362007058019963, 0.02427845306740992, 0.01815518211509324, -0.016274011062534347, 0.011432209262863601, -0.004968055615503024, 0.009803545841969265, -0.0056277277054072785, 0.01613513410029306, 0.01347119572256766, 0.0038507164700051816, 0.013584822666700564, -0.013243939971656668, -0.007512053613245832, -0.014380216863566445, -0.026765635730441092, 0.007979190124122008, 0.0026055463138658775, 0.006603032006585751, 0.0061674589496676455, -0.028558429856975463, 0.021046376243729632, -0.049036667654750205, 0.0026229061669766863, 0.005463598862412426, 0.008894523769647888, 0.006151677688349906, -0.00929222086808083, -0.020932747436951542, 0.0126568630807979, -0.016917901425459566, 0.015617496621877527, -0.022889668543835583, 0.005997017602145697, 0.004595609466501058, 0.014026708228145765, -0.0371941334904317, -0.01614775910934725, 0.018660193653131988, -0.008566266083658184, 0.0070701680518006306, -0.017448164844251882, 0.011369082354947461, 0.007164857948013545, 0.02473296270658672, -0.04348153328574323, -0.013243939971656668, -0.015642747571308502, 0.03252277210696031, 0.020718116695094744, 0.004314696495787161, 0.009702542975567961, 0.00039493517397551917, 0.0012846242407562431, -0.006006486358936341, -0.02112212629805478, -0.015188236069486516, 0.021652389716847093, 0.015478617796991057, 0.007606743509458746, 0.016703272546247948, 0.024253201186656356, 0.03901217577242927, 0.0195313397669682, 0.0056529781891769566, 0.008149631471643956, 0.01192459579184816, 0.03477007587267148, 0.0039043741554693817, 0.036739621988609715, -0.028002916420074766, -0.009872984323089909, 0.026058620322244916, -0.008844022802108532, 0.0521677406807066, 0.008686206463640775, -0.02478346460544867, 0.009096528571127907, -0.009967674684964118, -0.013319691888626998, -0.06822712100138414, -0.017675420595162875, 0.00797287668827232, 0.00497436812003012, -0.017915301355128057, 0.013521696690107016, 0.010529500626391911, 0.011539524633792002, -0.02868468181016256, -0.00251401290274716, 0.0004308383583806432, -0.015226112027971682, 0.006325275288135403, 0.01535236491248137, 0.012884118831708893, -0.008168568985225243, -0.01311768708714698, -0.021665014725901283, 0.011495336170779741, 0.011735216930744924, 0.02769990875219344, 0.008421074754244617, 0.014935730300467142, -0.035249837392601846, -0.00401800179809423, 0.005791856548402132, -0.010611565047889338, 0.026790887611194657, 0.013206064013171502, -0.008427388190094304, -0.005933891159890853, -0.018698068680294562, -0.007581492560027771, 0.003121605433318988, -0.002573983092738456, -0.02492234343033514, -0.039996952555688754, -0.0042105373771223085, 0.02769990875219344, -0.003746557817001625, 0.005574070019943078, 0.02364718771353889, 0.0279776645393212, -0.014354965914135471, 0.002704970588474113, 0.0012309667881226908, -0.0013548524834347173, 0.010239118898887371, -0.005529881556930817, -0.02220790315374779, -0.02357143579656856, -0.023306305018494997, -0.0570663559524438, 0.0015592245905277202, 0.04911241770907535, -0.008477889157633662, 0.017902676346073863, -0.0003669227948522506, -0.005675072420683087, 0.024695087679424146, -0.013269190921087642, 0.024392080011542826, 0.0070638555472735355, 0.0005243445144755712, 0.009835109295927335, 0.003995907566588099, -0.026841387647411424, 0.009582602595585368, 0.03277527973862487, -0.015150360111001352, 0.013723701491587035, 0.02127363013199544, -0.022308905088826506, 0.038810171902271845, -0.053783779092546745, 0.01196878425486042, -0.01729666101031122, -0.00871145741307175, 0.01628663793423372, -0.041208979501923676, -0.01319343900411731, -0.029820958702072336, 0.007196420936310318, -0.025402103087620323, 0.010131803527958972, -0.0035508657528793503, 0.004311539777862318, -0.02326842812868724, 0.003825465986235503, -0.008698831472694965, -0.0010352746075850924, 0.00829482186973493, -1.3217111034337117e-05, -0.045779337087671165, 0.000787897632078659, 0.013142937105255362, -0.026841387647411424, -0.0017375569179545098, 0.006075925771379576, 0.02206902432886132, 0.005753980589916966, -0.037648644992253684, -0.05454129826225005, 0.020932747436951542, -0.00979723333744217, -0.024253201186656356, 0.012745240938145014, -0.00167600860183144, 0.01874857057915651, -0.02204377431075294, -0.007429989191748406, -0.0022504597851440724, 0.013016684220745676, 0.008705144908544654, 0.006331588258323794, 0.0013264456309861673, -0.025641983847585505, -0.024631960771508008, 0.006950227671818039, 0.008566266083658184, 0.009279595859026638, 0.014228713029625783, 0.0002817020046759525, 0.005795012800665679, 0.002932225873723809, 0.018395062875058422, -0.01789004947437449, 0.010984011196891304, -0.018660193653131988, 0.012467484219694664, -0.010150741041540257, -0.00477551957081365, 0.005940203664417949, -0.042774517877547054, -0.0035035208047728937, 0.03176525666254737, 0.021008499353921874, -0.011482710230402957, 0.012650550576270805, 0.020276232064972134, 0.01383732936704253, 0.04981943311727153, -0.017599668678192543, -0.0347448258545631, 0.004100066219591656, -0.006571468552627681, -0.013130312096201172, 0.01917783020022493, -0.0070007291050186915, 0.009235407396014377, 0.029189693348201307, -0.01737241292728155, 0.022233153171856174, 0.025692485746447453, -0.008749333371556915, 0.0008932399960963702, -0.005160591660192399, -0.04100697563176625, 0.016867401389242802, -0.0009571555596247628, 0.02205639931980713, -0.003803371754729373, 0.005230030606974338, -0.017094657140153794, -0.0028422705887368653, 0.014127711094547071, -0.0021447227731780935, 0.012833617864169537, 0.005993861349882149, -0.011369082354947461, 0.01936721092397335, -0.03333079131288038, -0.04257251400738963, 0.003727619837759042, -0.0031452777909568926, -0.023924943500666648, -0.008761958380611105, 0.010819882353896451, -0.009500538174087943, 0.00018612454348115575, -0.0021447227731780935, 0.030805731760041453, -0.021816518559841947, -0.006975478155587717, -0.0015868423799103833, -0.01470847454955615, 0.009393223734482134, 0.007676182456240685, -0.017271410992202838, 0.013862579385150913, 0.017852174447211915, -0.013445944773136686, -0.056813852046069604, 0.009412161248063421, 0.014620097623531628, -0.012694739039283066, 0.0214251339659361, 0.008042316100715555, -0.01042218525546351, -0.00040400960296003605, 0.002413010502007151, 0.00998029969401831, -0.0028659431792054176, -0.0015947332433999006, 0.006281086825123142, -0.016450766777228572, -0.007480490159287762, 0.009481600660506656, 0.009418473752590516, -0.023748189648617603, -0.011305956378353913, 0.027750410651055393, 0.010826194858423547, -0.02350830888865242, -0.019278833997948826, 0.005179529173773686, -0.012991434202637294, 0.0020184698886684064, 0.01207609962578882, -0.026487879943313336, -0.034012560428258544, 0.03148749901277443, 0.011684715031882975, 0.012082412130315917, 0.009538414132573107, -0.030073464471091712, 0.02790191262235087, 0.027573654936361165, 0.005643508966725018, -0.010390621801505441, -0.004879678689478502, 0.015440741838505892, -0.01605938218332273, 0.025692485746447453, -0.029719956766993624, -0.008919774719078863, -0.03744664112209626, 0.02686663952816499, 0.0011307534504485688, 0.004437793128033301, -0.04037571027789522, 0.05302625992284343, 0.0012767334936820496, -0.002050033109795828, 0.002370400165126664, 0.002027938878289698, 0.013243939971656668, 0.025111722291438373, 0.028002916420074766, -0.03992119877607324, 0.005687697895398574, -0.003869654449247764, -0.021879645467758085, -0.003348860951399332, -0.04110797570419978, -0.017789047539295777, -0.005293157049229182, -0.024455206919458964, 0.0023640874277689205, -0.012524297691761117, 0.03012396636995366, 0.025250601116324843, 0.027775660669163774, -0.004715549380822354, 0.001604202233021192, -0.0260838703403533, -0.0013698450309325412, 0.02069286667698636, -0.018571816727107466, 0.02335680505471176, -0.005271062817723052, -0.0005791856199156159, 0.00014390869447786567, -0.03232076823680288, -0.010213867949456397, -0.00271286145196363, -0.0005393370619733951, -0.007196420936310318, -0.0020752838263961544, 0.009885610263466692, 0.011047138104807444, -0.009140717034140168, 0.007467865150233571, 0.0011236517664402622, 0.018470814792028754, 0.0371941334904317, 0.020402485880804413, -0.01737241292728155, 0.00630633730889282, 0.005473067619203069]\n"
     ]
    }
   ],
   "source": [
    "text = \"진희는 강아지를 키우고 있습니다. 진희가 키우고 있는 동물은?\"\n",
    "text_embedding = embeddings.embed_query(text)\n",
    "print(text_embedding)"
   ]
  },
  {
   "cell_type": "code",
   "execution_count": 10,
   "id": "3a9ff65a",
   "metadata": {},
   "outputs": [
    {
     "name": "stderr",
     "output_type": "stream",
     "text": [
      "C:\\Users\\JYSEO\\anaconda3\\envs\\openai\\lib\\site-packages\\tqdm\\auto.py:21: TqdmWarning: IProgress not found. Please update jupyter and ipywidgets. See https://ipywidgets.readthedocs.io/en/stable/user_install.html\n",
      "  from .autonotebook import tqdm as notebook_tqdm\n",
      "C:\\Users\\JYSEO\\anaconda3\\envs\\openai\\lib\\site-packages\\huggingface_hub\\file_download.py:148: UserWarning: `huggingface_hub` cache-system uses symlinks by default to efficiently store duplicated files but your machine does not support them in C:\\Users\\JYSEO\\.cache\\huggingface\\hub\\models--sentence-transformers--all-MiniLM-L6-v2. Caching files will still work but in a degraded version that might require more space on your disk. This warning can be disabled by setting the `HF_HUB_DISABLE_SYMLINKS_WARNING` environment variable. For more details, see https://huggingface.co/docs/huggingface_hub/how-to-cache#limitations.\n",
      "To support symlinks on Windows, you either need to activate Developer Mode or to run Python as an administrator. In order to see activate developer mode, see this article: https://docs.microsoft.com/en-us/windows/apps/get-started/enable-your-device-for-development\n",
      "  warnings.warn(message)\n"
     ]
    },
    {
     "name": "stdout",
     "output_type": "stream",
     "text": [
      "[0.01327882893383503, 0.07225918024778366, 0.09263104200363159, -0.003979596309363842, 0.0015618554316461086, -0.10306369513273239, 0.10929882526397705, 0.055662013590335846, -0.031167354434728622, -0.05020315200090408, 0.08312956988811493, -0.008924412541091442, 0.09506325423717499, -0.06980786472558975, 0.039559029042720795, -0.10899195075035095, 0.049438636749982834, 0.037364788353443146, -0.12409230321645737, -0.0033154150005429983, 0.048409536480903625, -0.031085100024938583, 0.008206991478800774, 0.06326042115688324, -0.06804246455430984, -0.010208168998360634, 0.004927049390971661, -0.014940349385142326, -0.0014765668893232942, -0.006598872132599354, -0.040159497410058975, 0.0828980803489685, 0.014144660905003548, -0.01179348211735487, -0.09415141493082047, 0.002156418515369296, -0.019053097814321518, -0.037738993763923645, -0.0032710579689592123, 0.04685608297586441, -0.1811162233352661, -0.11718789488077164, 0.035048410296440125, -0.06848113238811493, 0.06553441286087036, 0.035228580236434937, -0.04974851757287979, -0.12612958252429962, -0.0784597098827362, 0.004257902968674898, -0.1012403815984726, -0.025173965841531754, 0.028697680681943893, -0.0964251235127449, 0.004547166172415018, 0.013642484322190285, -0.07578513771295547, 0.0015167862875387073, 0.012643815018236637, 0.039357900619506836, 0.025811737403273582, 0.010000502690672874, 0.003953110426664352, 0.1066180020570755, 0.07008887082338333, 0.003821300808340311, -0.028669098392128944, -0.04812317714095116, 0.023298688232898712, -0.07286632061004639, 0.10862240195274353, -0.003001998644322157, 0.04572390764951706, 0.028517818078398705, -0.06160317361354828, -0.04397083818912506, -0.04367735981941223, -0.01679394207894802, -0.024261202663183212, -0.00818061176687479, 0.027305401861667633, 0.062304988503456116, -0.026362720876932144, 0.04584571346640587, -0.03654495254158974, -0.011483712121844292, -0.007790840696543455, -0.01151912473142147, -0.13225162029266357, 0.06266409158706665, 0.08490283042192459, 0.13822101056575775, -0.06200692802667618, 0.01180532481521368, -0.0674382895231247, 0.03455708175897598, -0.02723550982773304, -0.04584899917244911, 0.017875777557492256, 0.019349634647369385, -0.010784820653498173, 0.05677275359630585, -0.0031382539309561253, 0.059461046010255814, -0.056154318153858185, -0.04563065245747566, -0.011725585907697678, -0.07855505496263504, 0.031177083030343056, 0.04449998959898949, -0.05853131413459778, -0.07459669560194016, -0.11164924502372742, -0.08641169220209122, -0.002232304774224758, -0.05567561835050583, -0.029581356793642044, -0.019913265481591225, 0.020892441272735596, 4.48345163022168e-05, 0.01631336472928524, -0.01923968456685543, 0.007343255914747715, -0.05691513046622276, -0.06024608761072159, -0.06726787984371185, 0.05699145793914795, 5.7571250098162364e-33, -0.11671587824821472, -0.047875192016363144, 0.024304576218128204, -0.007873318158090115, -0.07164965569972992, -0.04347355291247368, -0.0005882435361854732, -0.012201076373457909, -0.010133746080100536, 0.012090046890079975, -0.013181962072849274, 0.013157020322978497, -0.11160208284854889, 0.02241998165845871, 0.07929772883653641, 0.020015981048345566, 0.010653283447027206, 0.018925657495856285, -0.07727370411157608, 0.06650301814079285, -0.01903124898672104, 0.04687989130616188, 0.044183406978845596, -0.012243766337633133, 0.017359532415866852, -0.03638288751244545, 0.03686297684907913, -0.05764247104525566, -0.08014407008886337, 0.05139584466814995, 0.06797011941671371, -0.06613980978727341, 0.015986913815140724, -0.017422808334231377, -0.08709698915481567, -0.048424843698740005, -0.03139856457710266, -0.01894318498671055, 0.03598485141992569, -0.0151740200817585, -0.05667756497859955, -0.016627714037895203, 0.0026758196763694286, 0.07279299944639206, -0.016608543694019318, 0.15623927116394043, 0.02005382440984249, -0.0036489530466496944, -0.04288451001048088, -0.010872287675738335, -0.005499961785972118, 0.04295508936047554, 0.006219592411071062, 0.018311327323317528, 0.06155114248394966, 0.049766331911087036, 0.07751660794019699, -0.0506732277572155, -0.09273546934127808, 0.043375272303819656, -0.025706473737955093, 0.0692405104637146, -0.016224320977926254, -0.03552991896867752, 0.035152409225702286, 0.02752414159476757, -0.031593408435583115, 0.0021320332307368517, 0.06902915239334106, -0.028676940128207207, 0.007580748293548822, -0.029038460925221443, -0.057637348771095276, 0.08411039412021637, -0.05106530338525772, -0.018209083005785942, -0.032217152416706085, 0.008495678193867207, -0.02327127568423748, 0.10360077768564224, -0.047151245176792145, 0.05071762576699257, -0.019967325031757355, -0.08733558654785156, 0.0430728942155838, 0.042503077536821365, 0.061885301023721695, -0.029018163681030273, 0.05750010535120964, 0.09962562471628189, 0.00311365001834929, -0.021079981699585915, -0.02131306752562523, 0.009604331105947495, -0.010661479085683823, -1.10823175591587e-32, 0.022461991757154465, 0.05014040321111679, -0.04363623633980751, 0.04319090396165848, 0.014806078746914864, -0.022129077464342117, -0.03533601015806198, -0.012966100126504898, 0.04126867279410362, 0.07568330317735672, -0.02277819626033306, 0.004464609548449516, -0.0020230894442647696, 0.008317644707858562, 0.012391236610710621, 0.023457840085029602, -0.004618524108082056, 0.01671759970486164, -0.03969214856624603, 0.07550639659166336, -0.024753373116254807, 0.0006305888528004289, -0.025864796712994576, 0.02483496442437172, -0.06750299036502838, -0.028255274519324303, -0.029146768152713776, 0.00505523756146431, -0.041988540440797806, -0.03363959118723869, 0.04718659073114395, -0.09567122906446457, 0.05342177301645279, 0.07293442636728287, 0.05589482933282852, -0.11131344735622406, -0.032456424087285995, -0.06448209285736084, -0.007085257209837437, -0.05535495653748512, -0.0018305204575881362, -0.03703378140926361, 0.06931699067354202, -0.06637191027402878, -0.011753464117646217, -0.06057430058717728, -0.042111292481422424, -0.057673532515764236, 0.013263043016195297, -0.07821604609489441, 0.10719425976276398, 0.013944914564490318, -0.0018789117457345128, -0.061514370143413544, 0.0739780142903328, 0.0016912055434659123, 0.007284088525921106, 0.029222438111901283, -0.015497036278247833, -0.02665163204073906, 0.04017440229654312, -0.030120903626084328, -0.01724392920732498, 0.08458475768566132, -0.07275515049695969, 0.02476675435900688, 0.04224064573645592, -0.07882042229175568, -0.020201627165079117, -0.05122322589159012, 0.025022611021995544, 0.010713675990700722, 0.09445088356733322, 0.0012765139108523726, -0.1178525760769844, -0.02361222356557846, -0.006602717097848654, -0.005651457700878382, 0.024886008352041245, -0.00740446150302887, -0.07830582559108734, 0.04434239864349365, -0.004738566931337118, -0.030357329174876213, -0.09630074352025986, -0.07722233980894089, -0.011737437918782234, -0.012655767612159252, -0.020551903173327446, -0.03310272470116615, -0.006986983120441437, 0.06579408049583435, -0.06467685848474503, 0.01672283560037613, 0.02586493082344532, -6.747298186837725e-08, 0.01435580849647522, -0.10713937878608704, 0.05957299470901489, 0.014457130804657936, 0.024237260222434998, 0.0008713386487215757, 0.04152456670999527, 0.020225893706083298, -0.02323179319500923, -0.001036892062984407, 0.06980495899915695, 0.03986067324876785, -0.09104388952255249, 0.07905727624893188, -0.055060166865587234, -0.0971767008304596, 0.029669471085071564, 0.08205387741327286, 0.01529871765524149, -0.02927120216190815, 0.039582259953022, -0.03370219096541405, -0.05486971512436867, 0.016918716952204704, -0.02419492043554783, 0.01724979467689991, -0.012048213742673397, -0.026754507794976234, 0.005114193074405193, -0.04359178990125656, -0.0038825813680887222, -0.030723704025149345, 0.0005513698561117053, -0.041554465889930725, 0.04173414036631584, -0.022711416706442833, -0.051652632653713226, 0.001999886939302087, -0.03003680147230625, 0.013122651726007462, -0.036142971366643906, -0.09906808286905289, 0.05761134997010231, 0.031779784709215164, 0.06513634324073792, -0.025864513590931892, 0.020204905420541763, -0.031005915254354477, -0.03583565354347229, 0.039483532309532166, -0.026185978204011917, -0.017085596919059753, 0.0013754763640463352, -0.02084374614059925, 0.02082640305161476, 0.03732384741306305, 0.017785828560590744, 0.03167782723903656, -0.03965365141630173, 0.010524037294089794, 0.016324708238244057, 0.04119271785020828, 0.04389972612261772, 0.01187194511294365]\n"
     ]
    }
   ],
   "source": [
    "from langchain.embeddings import HuggingFaceEmbeddings\n",
    "embeddings = HuggingFaceEmbeddings(model_name = \"sentence-transformers/all-MiniLM-L6-v2\")\n",
    "\n",
    "text = \"진희는 강아지를 키우고 있습니다. 진희가 키우고 있는 동물은?\"\n",
    "text_embedding = embeddings.embed_query(text)\n",
    "print(text_embedding)"
   ]
  },
  {
   "cell_type": "code",
   "execution_count": 11,
   "id": "d217e243",
   "metadata": {},
   "outputs": [
    {
     "name": "stderr",
     "output_type": "stream",
     "text": [
      "C:\\Users\\JYSEO\\anaconda3\\envs\\openai\\lib\\site-packages\\langchain_core\\_api\\deprecation.py:119: LangChainDeprecationWarning: The class `ChatOpenAI` was deprecated in LangChain 0.0.10 and will be removed in 0.2.0. An updated version of the class exists in the langchain-openai package and should be used instead. To use it run `pip install -U langchain-openai` and import as `from langchain_openai import ChatOpenAI`.\n",
      "  warn_deprecated(\n",
      "C:\\Users\\JYSEO\\anaconda3\\envs\\openai\\lib\\site-packages\\langchain_core\\_api\\deprecation.py:119: LangChainDeprecationWarning: The method `Chain.__call__` was deprecated in langchain 0.1.0 and will be removed in 0.2.0. Use invoke instead.\n",
      "  warn_deprecated(\n"
     ]
    },
    {
     "name": "stdout",
     "output_type": "stream",
     "text": [
      "마을 무덤에 있던 남자를 죽인 사람은 Injun Joe입니다.\n"
     ]
    }
   ],
   "source": [
    "from langchain.chat_models import ChatOpenAI\n",
    "llm = ChatOpenAI(temperature=0,  # 창의성 0으로 설정 \n",
    "                 model_name='gpt-3.5-turbo',  # 모델명\n",
    "                )\n",
    "\n",
    "from langchain.chains import RetrievalQA\n",
    "retriever = db.as_retriever()\n",
    "\n",
    "qa = RetrievalQA.from_chain_type(\n",
    "    llm=llm, \n",
    "    chain_type=\"stuff\", \n",
    "    retriever=retriever)\n",
    "\n",
    "query = \"마을 무덤에 있던 남자를 죽인 사람은 누구니?\"\n",
    "result = qa({\"query\": query})\n",
    "print(result['result'])"
   ]
  },
  {
   "cell_type": "code",
   "execution_count": null,
   "id": "5d4281ef",
   "metadata": {},
   "outputs": [],
   "source": []
  }
 ],
 "metadata": {
  "kernelspec": {
   "display_name": "openai",
   "language": "python",
   "name": "openai"
  },
  "language_info": {
   "codemirror_mode": {
    "name": "ipython",
    "version": 3
   },
   "file_extension": ".py",
   "mimetype": "text/x-python",
   "name": "python",
   "nbconvert_exporter": "python",
   "pygments_lexer": "ipython3",
   "version": "3.8.19"
  }
 },
 "nbformat": 4,
 "nbformat_minor": 5
}
