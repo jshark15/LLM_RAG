{
 "cells": [
  {
   "cell_type": "code",
   "execution_count": 1,
   "id": "fb80cfdc",
   "metadata": {},
   "outputs": [
    {
     "name": "stdout",
     "output_type": "stream",
     "text": [
      "Requirement already satisfied: langchain in c:\\users\\jyseo\\anaconda3\\envs\\openai\\lib\\site-packages (0.1.17)\n",
      "Requirement already satisfied: PyYAML>=5.3 in c:\\users\\jyseo\\anaconda3\\envs\\openai\\lib\\site-packages (from langchain) (6.0.1)\n",
      "Requirement already satisfied: SQLAlchemy<3,>=1.4 in c:\\users\\jyseo\\anaconda3\\envs\\openai\\lib\\site-packages (from langchain) (2.0.29)\n",
      "Requirement already satisfied: aiohttp<4.0.0,>=3.8.3 in c:\\users\\jyseo\\anaconda3\\envs\\openai\\lib\\site-packages (from langchain) (3.9.5)\n",
      "Requirement already satisfied: async-timeout<5.0.0,>=4.0.0 in c:\\users\\jyseo\\anaconda3\\envs\\openai\\lib\\site-packages (from langchain) (4.0.3)\n",
      "Requirement already satisfied: dataclasses-json<0.7,>=0.5.7 in c:\\users\\jyseo\\anaconda3\\envs\\openai\\lib\\site-packages (from langchain) (0.6.5)\n",
      "Requirement already satisfied: jsonpatch<2.0,>=1.33 in c:\\users\\jyseo\\anaconda3\\envs\\openai\\lib\\site-packages (from langchain) (1.33)\n",
      "Requirement already satisfied: langchain-community<0.1,>=0.0.36 in c:\\users\\jyseo\\anaconda3\\envs\\openai\\lib\\site-packages (from langchain) (0.0.36)\n",
      "Requirement already satisfied: langchain-core<0.2.0,>=0.1.48 in c:\\users\\jyseo\\anaconda3\\envs\\openai\\lib\\site-packages (from langchain) (0.1.52)\n",
      "Requirement already satisfied: langchain-text-splitters<0.1,>=0.0.1 in c:\\users\\jyseo\\anaconda3\\envs\\openai\\lib\\site-packages (from langchain) (0.0.1)\n",
      "Requirement already satisfied: langsmith<0.2.0,>=0.1.17 in c:\\users\\jyseo\\anaconda3\\envs\\openai\\lib\\site-packages (from langchain) (0.1.98)\n",
      "Requirement already satisfied: numpy<2,>=1 in c:\\users\\jyseo\\anaconda3\\envs\\openai\\lib\\site-packages (from langchain) (1.24.4)\n",
      "Requirement already satisfied: pydantic<3,>=1 in c:\\users\\jyseo\\anaconda3\\envs\\openai\\lib\\site-packages (from langchain) (2.7.1)\n",
      "Requirement already satisfied: requests<3,>=2 in c:\\users\\jyseo\\anaconda3\\envs\\openai\\lib\\site-packages (from langchain) (2.31.0)\n",
      "Requirement already satisfied: tenacity<9.0.0,>=8.1.0 in c:\\users\\jyseo\\anaconda3\\envs\\openai\\lib\\site-packages (from langchain) (8.2.3)\n",
      "Requirement already satisfied: aiosignal>=1.1.2 in c:\\users\\jyseo\\anaconda3\\envs\\openai\\lib\\site-packages (from aiohttp<4.0.0,>=3.8.3->langchain) (1.3.1)\n",
      "Requirement already satisfied: attrs>=17.3.0 in c:\\users\\jyseo\\anaconda3\\envs\\openai\\lib\\site-packages (from aiohttp<4.0.0,>=3.8.3->langchain) (23.2.0)\n",
      "Requirement already satisfied: frozenlist>=1.1.1 in c:\\users\\jyseo\\anaconda3\\envs\\openai\\lib\\site-packages (from aiohttp<4.0.0,>=3.8.3->langchain) (1.4.1)\n",
      "Requirement already satisfied: multidict<7.0,>=4.5 in c:\\users\\jyseo\\anaconda3\\envs\\openai\\lib\\site-packages (from aiohttp<4.0.0,>=3.8.3->langchain) (6.0.5)\n",
      "Requirement already satisfied: yarl<2.0,>=1.0 in c:\\users\\jyseo\\anaconda3\\envs\\openai\\lib\\site-packages (from aiohttp<4.0.0,>=3.8.3->langchain) (1.9.4)\n",
      "Requirement already satisfied: marshmallow<4.0.0,>=3.18.0 in c:\\users\\jyseo\\anaconda3\\envs\\openai\\lib\\site-packages (from dataclasses-json<0.7,>=0.5.7->langchain) (3.21.2)\n",
      "Requirement already satisfied: typing-inspect<1,>=0.4.0 in c:\\users\\jyseo\\anaconda3\\envs\\openai\\lib\\site-packages (from dataclasses-json<0.7,>=0.5.7->langchain) (0.9.0)\n",
      "Requirement already satisfied: jsonpointer>=1.9 in c:\\users\\jyseo\\anaconda3\\envs\\openai\\lib\\site-packages (from jsonpatch<2.0,>=1.33->langchain) (2.4)\n",
      "Requirement already satisfied: packaging<24.0,>=23.2 in c:\\users\\jyseo\\anaconda3\\envs\\openai\\lib\\site-packages (from langchain-core<0.2.0,>=0.1.48->langchain) (23.2)\n",
      "Requirement already satisfied: orjson<4.0.0,>=3.9.14 in c:\\users\\jyseo\\anaconda3\\envs\\openai\\lib\\site-packages (from langsmith<0.2.0,>=0.1.17->langchain) (3.10.2)\n",
      "Requirement already satisfied: annotated-types>=0.4.0 in c:\\users\\jyseo\\anaconda3\\envs\\openai\\lib\\site-packages (from pydantic<3,>=1->langchain) (0.6.0)\n",
      "Requirement already satisfied: pydantic-core==2.18.2 in c:\\users\\jyseo\\anaconda3\\envs\\openai\\lib\\site-packages (from pydantic<3,>=1->langchain) (2.18.2)\n",
      "Requirement already satisfied: typing-extensions>=4.6.1 in c:\\users\\jyseo\\anaconda3\\envs\\openai\\lib\\site-packages (from pydantic<3,>=1->langchain) (4.11.0)\n",
      "Requirement already satisfied: charset-normalizer<4,>=2 in c:\\users\\jyseo\\anaconda3\\envs\\openai\\lib\\site-packages (from requests<3,>=2->langchain) (3.3.2)\n",
      "Requirement already satisfied: idna<4,>=2.5 in c:\\users\\jyseo\\anaconda3\\envs\\openai\\lib\\site-packages (from requests<3,>=2->langchain) (3.7)\n",
      "Requirement already satisfied: urllib3<3,>=1.21.1 in c:\\users\\jyseo\\anaconda3\\envs\\openai\\lib\\site-packages (from requests<3,>=2->langchain) (2.2.1)\n",
      "Requirement already satisfied: certifi>=2017.4.17 in c:\\users\\jyseo\\anaconda3\\envs\\openai\\lib\\site-packages (from requests<3,>=2->langchain) (2024.2.2)\n",
      "Requirement already satisfied: greenlet!=0.4.17 in c:\\users\\jyseo\\anaconda3\\envs\\openai\\lib\\site-packages (from SQLAlchemy<3,>=1.4->langchain) (3.0.3)\n",
      "Requirement already satisfied: mypy-extensions>=0.3.0 in c:\\users\\jyseo\\anaconda3\\envs\\openai\\lib\\site-packages (from typing-inspect<1,>=0.4.0->dataclasses-json<0.7,>=0.5.7->langchain) (1.0.0)\n"
     ]
    }
   ],
   "source": [
    "#!pip install langchain"
   ]
  },
  {
   "cell_type": "code",
   "execution_count": 2,
   "id": "764413ac",
   "metadata": {},
   "outputs": [
    {
     "name": "stdout",
     "output_type": "stream",
     "text": [
      "Requirement already satisfied: streamlit in c:\\users\\jyseo\\anaconda3\\envs\\openai\\lib\\site-packages (1.33.0)\n",
      "Requirement already satisfied: altair<6,>=4.0 in c:\\users\\jyseo\\anaconda3\\envs\\openai\\lib\\site-packages (from streamlit) (5.3.0)\n",
      "Requirement already satisfied: blinker<2,>=1.0.0 in c:\\users\\jyseo\\anaconda3\\envs\\openai\\lib\\site-packages (from streamlit) (1.8.1)\n",
      "Requirement already satisfied: cachetools<6,>=4.0 in c:\\users\\jyseo\\anaconda3\\envs\\openai\\lib\\site-packages (from streamlit) (5.3.3)\n",
      "Requirement already satisfied: click<9,>=7.0 in c:\\users\\jyseo\\anaconda3\\envs\\openai\\lib\\site-packages (from streamlit) (8.1.7)\n",
      "Requirement already satisfied: numpy<2,>=1.19.3 in c:\\users\\jyseo\\anaconda3\\envs\\openai\\lib\\site-packages (from streamlit) (1.24.4)\n",
      "Requirement already satisfied: packaging<25,>=16.8 in c:\\users\\jyseo\\anaconda3\\envs\\openai\\lib\\site-packages (from streamlit) (23.2)\n",
      "Requirement already satisfied: pandas<3,>=1.3.0 in c:\\users\\jyseo\\anaconda3\\envs\\openai\\lib\\site-packages (from streamlit) (2.0.3)\n",
      "Requirement already satisfied: pillow<11,>=7.1.0 in c:\\users\\jyseo\\anaconda3\\envs\\openai\\lib\\site-packages (from streamlit) (10.3.0)\n",
      "Requirement already satisfied: protobuf<5,>=3.20 in c:\\users\\jyseo\\anaconda3\\envs\\openai\\lib\\site-packages (from streamlit) (4.25.3)\n",
      "Requirement already satisfied: pyarrow>=7.0 in c:\\users\\jyseo\\anaconda3\\envs\\openai\\lib\\site-packages (from streamlit) (16.0.0)\n",
      "Requirement already satisfied: requests<3,>=2.27 in c:\\users\\jyseo\\anaconda3\\envs\\openai\\lib\\site-packages (from streamlit) (2.31.0)\n",
      "Requirement already satisfied: rich<14,>=10.14.0 in c:\\users\\jyseo\\anaconda3\\envs\\openai\\lib\\site-packages (from streamlit) (13.7.1)\n",
      "Requirement already satisfied: tenacity<9,>=8.1.0 in c:\\users\\jyseo\\anaconda3\\envs\\openai\\lib\\site-packages (from streamlit) (8.2.3)\n",
      "Requirement already satisfied: toml<2,>=0.10.1 in c:\\users\\jyseo\\anaconda3\\envs\\openai\\lib\\site-packages (from streamlit) (0.10.2)\n",
      "Requirement already satisfied: typing-extensions<5,>=4.3.0 in c:\\users\\jyseo\\anaconda3\\envs\\openai\\lib\\site-packages (from streamlit) (4.11.0)\n",
      "Requirement already satisfied: gitpython!=3.1.19,<4,>=3.0.7 in c:\\users\\jyseo\\anaconda3\\envs\\openai\\lib\\site-packages (from streamlit) (3.1.43)\n",
      "Requirement already satisfied: pydeck<1,>=0.8.0b4 in c:\\users\\jyseo\\anaconda3\\envs\\openai\\lib\\site-packages (from streamlit) (0.9.0)\n",
      "Requirement already satisfied: tornado<7,>=6.0.3 in c:\\users\\jyseo\\anaconda3\\envs\\openai\\lib\\site-packages (from streamlit) (6.4)\n",
      "Requirement already satisfied: watchdog>=2.1.5 in c:\\users\\jyseo\\anaconda3\\envs\\openai\\lib\\site-packages (from streamlit) (4.0.0)\n",
      "Requirement already satisfied: jinja2 in c:\\users\\jyseo\\anaconda3\\envs\\openai\\lib\\site-packages (from altair<6,>=4.0->streamlit) (3.1.3)\n",
      "Requirement already satisfied: jsonschema>=3.0 in c:\\users\\jyseo\\anaconda3\\envs\\openai\\lib\\site-packages (from altair<6,>=4.0->streamlit) (4.22.0)\n",
      "Requirement already satisfied: toolz in c:\\users\\jyseo\\anaconda3\\envs\\openai\\lib\\site-packages (from altair<6,>=4.0->streamlit) (0.12.1)\n",
      "Requirement already satisfied: colorama in c:\\users\\jyseo\\anaconda3\\envs\\openai\\lib\\site-packages (from click<9,>=7.0->streamlit) (0.4.6)\n",
      "Requirement already satisfied: gitdb<5,>=4.0.1 in c:\\users\\jyseo\\anaconda3\\envs\\openai\\lib\\site-packages (from gitpython!=3.1.19,<4,>=3.0.7->streamlit) (4.0.11)\n",
      "Requirement already satisfied: python-dateutil>=2.8.2 in c:\\users\\jyseo\\anaconda3\\envs\\openai\\lib\\site-packages (from pandas<3,>=1.3.0->streamlit) (2.9.0.post0)\n",
      "Requirement already satisfied: pytz>=2020.1 in c:\\users\\jyseo\\anaconda3\\envs\\openai\\lib\\site-packages (from pandas<3,>=1.3.0->streamlit) (2024.1)\n",
      "Requirement already satisfied: tzdata>=2022.1 in c:\\users\\jyseo\\anaconda3\\envs\\openai\\lib\\site-packages (from pandas<3,>=1.3.0->streamlit) (2024.1)\n",
      "Requirement already satisfied: charset-normalizer<4,>=2 in c:\\users\\jyseo\\anaconda3\\envs\\openai\\lib\\site-packages (from requests<3,>=2.27->streamlit) (3.3.2)\n",
      "Requirement already satisfied: idna<4,>=2.5 in c:\\users\\jyseo\\anaconda3\\envs\\openai\\lib\\site-packages (from requests<3,>=2.27->streamlit) (3.7)\n",
      "Requirement already satisfied: urllib3<3,>=1.21.1 in c:\\users\\jyseo\\anaconda3\\envs\\openai\\lib\\site-packages (from requests<3,>=2.27->streamlit) (2.2.1)\n",
      "Requirement already satisfied: certifi>=2017.4.17 in c:\\users\\jyseo\\anaconda3\\envs\\openai\\lib\\site-packages (from requests<3,>=2.27->streamlit) (2024.2.2)\n",
      "Requirement already satisfied: markdown-it-py>=2.2.0 in c:\\users\\jyseo\\anaconda3\\envs\\openai\\lib\\site-packages (from rich<14,>=10.14.0->streamlit) (3.0.0)\n",
      "Requirement already satisfied: pygments<3.0.0,>=2.13.0 in c:\\users\\jyseo\\anaconda3\\envs\\openai\\lib\\site-packages (from rich<14,>=10.14.0->streamlit) (2.17.2)\n",
      "Requirement already satisfied: smmap<6,>=3.0.1 in c:\\users\\jyseo\\anaconda3\\envs\\openai\\lib\\site-packages (from gitdb<5,>=4.0.1->gitpython!=3.1.19,<4,>=3.0.7->streamlit) (5.0.1)\n",
      "Requirement already satisfied: MarkupSafe>=2.0 in c:\\users\\jyseo\\anaconda3\\envs\\openai\\lib\\site-packages (from jinja2->altair<6,>=4.0->streamlit) (2.1.5)\n",
      "Requirement already satisfied: attrs>=22.2.0 in c:\\users\\jyseo\\anaconda3\\envs\\openai\\lib\\site-packages (from jsonschema>=3.0->altair<6,>=4.0->streamlit) (23.2.0)\n",
      "Requirement already satisfied: importlib-resources>=1.4.0 in c:\\users\\jyseo\\anaconda3\\envs\\openai\\lib\\site-packages (from jsonschema>=3.0->altair<6,>=4.0->streamlit) (6.4.0)\n",
      "Requirement already satisfied: jsonschema-specifications>=2023.03.6 in c:\\users\\jyseo\\anaconda3\\envs\\openai\\lib\\site-packages (from jsonschema>=3.0->altair<6,>=4.0->streamlit) (2023.12.1)\n",
      "Requirement already satisfied: pkgutil-resolve-name>=1.3.10 in c:\\users\\jyseo\\anaconda3\\envs\\openai\\lib\\site-packages (from jsonschema>=3.0->altair<6,>=4.0->streamlit) (1.3.10)\n",
      "Requirement already satisfied: referencing>=0.28.4 in c:\\users\\jyseo\\anaconda3\\envs\\openai\\lib\\site-packages (from jsonschema>=3.0->altair<6,>=4.0->streamlit) (0.35.1)\n",
      "Requirement already satisfied: rpds-py>=0.7.1 in c:\\users\\jyseo\\anaconda3\\envs\\openai\\lib\\site-packages (from jsonschema>=3.0->altair<6,>=4.0->streamlit) (0.18.0)\n",
      "Requirement already satisfied: mdurl~=0.1 in c:\\users\\jyseo\\anaconda3\\envs\\openai\\lib\\site-packages (from markdown-it-py>=2.2.0->rich<14,>=10.14.0->streamlit) (0.1.2)\n",
      "Requirement already satisfied: six>=1.5 in c:\\users\\jyseo\\anaconda3\\envs\\openai\\lib\\site-packages (from python-dateutil>=2.8.2->pandas<3,>=1.3.0->streamlit) (1.16.0)\n",
      "Requirement already satisfied: zipp>=3.1.0 in c:\\users\\jyseo\\anaconda3\\envs\\openai\\lib\\site-packages (from importlib-resources>=1.4.0->jsonschema>=3.0->altair<6,>=4.0->streamlit) (3.18.1)\n"
     ]
    }
   ],
   "source": [
    "#!pip install streamlit"
   ]
  },
  {
   "cell_type": "code",
   "execution_count": 3,
   "id": "90b43881",
   "metadata": {},
   "outputs": [
    {
     "name": "stdout",
     "output_type": "stream",
     "text": [
      "Requirement already satisfied: openai in c:\\users\\jyseo\\anaconda3\\envs\\openai\\lib\\site-packages (1.34.0)\n",
      "Requirement already satisfied: anyio<5,>=3.5.0 in c:\\users\\jyseo\\anaconda3\\envs\\openai\\lib\\site-packages (from openai) (4.3.0)\n",
      "Requirement already satisfied: distro<2,>=1.7.0 in c:\\users\\jyseo\\anaconda3\\envs\\openai\\lib\\site-packages (from openai) (1.9.0)\n",
      "Requirement already satisfied: httpx<1,>=0.23.0 in c:\\users\\jyseo\\anaconda3\\envs\\openai\\lib\\site-packages (from openai) (0.27.0)\n",
      "Requirement already satisfied: pydantic<3,>=1.9.0 in c:\\users\\jyseo\\anaconda3\\envs\\openai\\lib\\site-packages (from openai) (2.7.1)\n",
      "Requirement already satisfied: sniffio in c:\\users\\jyseo\\anaconda3\\envs\\openai\\lib\\site-packages (from openai) (1.3.1)\n",
      "Requirement already satisfied: tqdm>4 in c:\\users\\jyseo\\anaconda3\\envs\\openai\\lib\\site-packages (from openai) (4.66.2)\n",
      "Requirement already satisfied: typing-extensions<5,>=4.7 in c:\\users\\jyseo\\anaconda3\\envs\\openai\\lib\\site-packages (from openai) (4.11.0)\n",
      "Requirement already satisfied: idna>=2.8 in c:\\users\\jyseo\\anaconda3\\envs\\openai\\lib\\site-packages (from anyio<5,>=3.5.0->openai) (3.7)\n",
      "Requirement already satisfied: exceptiongroup>=1.0.2 in c:\\users\\jyseo\\anaconda3\\envs\\openai\\lib\\site-packages (from anyio<5,>=3.5.0->openai) (1.2.1)\n",
      "Requirement already satisfied: certifi in c:\\users\\jyseo\\anaconda3\\envs\\openai\\lib\\site-packages (from httpx<1,>=0.23.0->openai) (2024.2.2)\n",
      "Requirement already satisfied: httpcore==1.* in c:\\users\\jyseo\\anaconda3\\envs\\openai\\lib\\site-packages (from httpx<1,>=0.23.0->openai) (1.0.5)\n",
      "Requirement already satisfied: h11<0.15,>=0.13 in c:\\users\\jyseo\\anaconda3\\envs\\openai\\lib\\site-packages (from httpcore==1.*->httpx<1,>=0.23.0->openai) (0.14.0)\n",
      "Requirement already satisfied: annotated-types>=0.4.0 in c:\\users\\jyseo\\anaconda3\\envs\\openai\\lib\\site-packages (from pydantic<3,>=1.9.0->openai) (0.6.0)\n",
      "Requirement already satisfied: pydantic-core==2.18.2 in c:\\users\\jyseo\\anaconda3\\envs\\openai\\lib\\site-packages (from pydantic<3,>=1.9.0->openai) (2.18.2)\n",
      "Requirement already satisfied: colorama in c:\\users\\jyseo\\anaconda3\\envs\\openai\\lib\\site-packages (from tqdm>4->openai) (0.4.6)\n"
     ]
    }
   ],
   "source": [
    "#!pip install openai"
   ]
  },
  {
   "cell_type": "code",
   "execution_count": 4,
   "id": "356b391f",
   "metadata": {},
   "outputs": [],
   "source": [
    "import streamlit as st\n",
    "from langchain.chat_models import ChatOpenAI\n",
    "from langchain.prompts import PromptTemplate\n",
    "from langchain.chains import LLMChain\n",
    "from langchain.memory import ConversationBufferMemory\n",
    "import os\n",
    "os.environ[\"OPENAI_API_KEY\"] = \"sk\" #openai 키 입력\n"
   ]
  },
  {
   "cell_type": "code",
   "execution_count": 5,
   "id": "5db80ac9",
   "metadata": {},
   "outputs": [
    {
     "name": "stderr",
     "output_type": "stream",
     "text": [
      "2024-08-07 16:46:33.099 \n",
      "  \u001b[33m\u001b[1mWarning:\u001b[0m to view this Streamlit app on a browser, run it with the following\n",
      "  command:\n",
      "\n",
      "    streamlit run C:\\Users\\JYSEO\\anaconda3\\envs\\openai\\lib\\site-packages\\ipykernel_launcher.py [ARGUMENTS]\n",
      "C:\\Users\\JYSEO\\anaconda3\\envs\\openai\\lib\\site-packages\\langchain_core\\_api\\deprecation.py:119: LangChainDeprecationWarning: The class `ChatOpenAI` was deprecated in LangChain 0.0.10 and will be removed in 0.2.0. An updated version of the class exists in the langchain-openai package and should be used instead. To use it run `pip install -U langchain-openai` and import as `from langchain_openai import ChatOpenAI`.\n",
      "  warn_deprecated(\n",
      "C:\\Users\\JYSEO\\anaconda3\\envs\\openai\\lib\\site-packages\\langchain_core\\_api\\deprecation.py:119: LangChainDeprecationWarning: The class `LLMChain` was deprecated in LangChain 0.1.17 and will be removed in 0.3.0. Use RunnableSequence, e.g., `prompt | llm` instead.\n",
      "  warn_deprecated(\n"
     ]
    }
   ],
   "source": [
    "# 웹페이지에 보여질 내용\n",
    "langs = [\"Korean\", \"Japanese\", \"chinese\", \"English\"]  #번역을 할 언어를 나열\n",
    "left_co, cent_co,last_co = st.columns(3)\n",
    "\n",
    "#웹페이지 왼쪽에 언어를 선택할 수 있는 라디오 버튼 \n",
    "with st.sidebar:\n",
    "     language = st.radio('번역을 원하는 언어를 선택해주세요.:', langs)\n",
    "\n",
    "st.markdown('### 언어 번역 서비스예요~')\n",
    "prompt = st.text_input('번역을 원하는 텍스트를 입력하세요')  #사용자의 텍스트 입력\n",
    "\n",
    "trans_template = PromptTemplate(\n",
    "    input_variables=['trans'],\n",
    "    template='Your task is to translate this text to ' + language + 'TEXT: {trans}'\n",
    ")  #해당 서비스가 번역에 대한 것임을 지시\n",
    "\n",
    "#momory는 텍스트 저장 용도\n",
    "memory = ConversationBufferMemory(input_key='trans', memory_key='chat_history')\n",
    "\n",
    "llm = ChatOpenAI(temperature=0.0,model_name='gpt-4')\n",
    "trans_chain = LLMChain(llm=llm, prompt=trans_template, verbose=True, output_key='translate', memory=memory)\n",
    "\n",
    "# 프롬프트(trans_template)가 있으면 이를 처리하고 화면에 응답을 작성\n",
    "if st.button(\"번역\"):\n",
    "    if prompt:\n",
    "        response = trans_chain({'trans': prompt})\n",
    "        st.info(response['translate'])\n"
   ]
  },
  {
   "cell_type": "code",
   "execution_count": null,
   "id": "82f4eb0c",
   "metadata": {},
   "outputs": [],
   "source": []
  }
 ],
 "metadata": {
  "kernelspec": {
   "display_name": "openai",
   "language": "python",
   "name": "openai"
  },
  "language_info": {
   "codemirror_mode": {
    "name": "ipython",
    "version": 3
   },
   "file_extension": ".py",
   "mimetype": "text/x-python",
   "name": "python",
   "nbconvert_exporter": "python",
   "pygments_lexer": "ipython3",
   "version": "3.8.19"
  }
 },
 "nbformat": 4,
 "nbformat_minor": 5
}
